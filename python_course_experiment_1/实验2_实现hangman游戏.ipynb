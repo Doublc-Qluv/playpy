{
 "cells": [
  {
   "cell_type": "markdown",
   "metadata": {},
   "source": [
    "# <font color=\"0000ff\">Introduction</font>"
   ]
  },
  {
   "cell_type": "markdown",
   "metadata": {},
   "source": [
    "For this problem, you will implement a variation of the classic word game Hangman. In this problem, the second player will always be the computer, who will be picking a word at random. In this problem, you will implement a function, called hangman, that will start up and carry out an interactive Hangman game between a player and the computer. Before we get to this function, we'll first implement a few helper functions to get you going.\n",
    "\n",
    "For this problem, you will need the code file words.txt. The code we have given you loads in a list of words from a file. If everything is working okay, after a small delay, you should see the following printed out:\n",
    "\n",
    "- Loading word list from file...\n",
    "- 55909 words loaded.\n",
    "\n",
    "If you see an IOError instead (e.g., \"No such file or directory\"), you should change the value of the WORDLIST_FILENAME constant\n",
    "(defined near the top of the file) to the complete pathname for the file words.txt (This will vary based on where you saved the file).\n",
    "Windows users, change the backslashes to forward slashes, like below.\n",
    "\n",
    "For example, if you saved ps3_hangman.py and words.txt in the directory\n",
    "\n",
    "\"C:/Users/Ana/\" change the line:\n",
    "\n",
    "WORDLIST_FILENAME = \"words.txt\"  to something like\n",
    "\n",
    "WORDLIST_FILENAME = \"C:/Users/Ana/words.txt\"\n",
    "\n",
    "This folder will vary depending on where you saved the files."
   ]
  },
  {
   "cell_type": "markdown",
   "metadata": {},
   "source": [
    "### <font color=\"ff00ff\">Requirements</font>\n",
    "- The computer must select a word at random from the list of available words that was provided in words.txt. The functions for loading the word list and selecting a random word have already been provided for you.\n",
    "\n",
    "- The game must be interactive; the flow of the game should go as follows:\n",
    "    1. At the start of the game, let the user know how many letters the computer's word contains.\n",
    "    2. Ask the user to supply one guess (i.e. letter) per round.\n",
    "    3. The user should receive feedback immediately after each guess about whether their guess appears in the computer's word.\n",
    "    4. After each round, you should also display to the user the partially guessed word so far, as well as letters that the user has not yet guessed.\n",
    "\n",
    "- Some additional rules of the game:\n",
    "    1. A user is allowed 8 guesses. Make sure to remind the user of how many guesses s/he has left after each round. Assume that players will only ever submit one character at a time (A-Z).\n",
    "    2. A user loses a guess only when s/he guesses incorrectly.\n",
    "    3. If the user guesses the same letter twice, do not take away a guess - instead, print a message letting them know they've already guessed that letter and ask them to try again.\n",
    "    4. The game should end when the user constructs the full word or runs out of guesses. If the player runs out of guesses (s/he \"loses\"), reveal the word to the user when the game ends."
   ]
  },
  {
   "cell_type": "markdown",
   "metadata": {},
   "source": [
    "#### Sample Output"
   ]
  },
  {
   "cell_type": "markdown",
   "metadata": {},
   "source": [
    "##### The output of a winning game should look like this..."
   ]
  },
  {
   "cell_type": "code",
   "execution_count": null,
   "metadata": {},
   "outputs": [],
   "source": [
    "\"\"\"\n",
    "Loading word list from file...\n",
    "55900 words loaded.\n",
    "Welcome to the game, Hangman!\n",
    "I am thinking of a word that is 4 letters long.\n",
    "*************\n",
    "You have 8 guesses left.\n",
    "Available letters: abcdefghijklmnopqrstuvwxyz\n",
    "Please guess a letter: a\n",
    "Good guess: _ a_ _\n",
    "*************\n",
    "You have 8 guesses left.\n",
    "Available letters: bcdefghijklmnopqrstuvwxyz\n",
    "Please guess a letter: a\n",
    "Oops! You've already guessed that letter: _ a_ _\n",
    "*************\n",
    "You have 8 guesses left.\n",
    "Available letters: bcdefghijklmnopqrstuvwxyz\n",
    "Please guess a letter: s\n",
    "Oops! That letter is not in my word: _ a_ _\n",
    "*************\n",
    "You have 7 guesses left.\n",
    "Available letters: bcdefghijklmnopqrtuvwxyz\n",
    "Please guess a letter: t\n",
    "Good guess: ta_ t\n",
    "*************\n",
    "You have 7 guesses left.\n",
    "Available letters: bcdefghijklmnopqruvwxyz\n",
    "Please guess a letter: r\n",
    "Oops! That letter is not in my word: ta_ t\n",
    "*************\n",
    "You have 6 guesses left.\n",
    "Available letters: bcdefghijklmnopquvwxyz\n",
    "Please guess a letter: m\n",
    "Oops! That letter is not in my word: ta_ t\n",
    "*************\n",
    "You have 5 guesses left.\n",
    "Available letters: bcdefghijklnopquvwxyz\n",
    "Please guess a letter: c\n",
    "Good guess: tact\n",
    "*************\n",
    "Congratulations, you won!\n",
    "\"\"\""
   ]
  },
  {
   "cell_type": "markdown",
   "metadata": {},
   "source": [
    "##### And the output of a losing game should look like this..."
   ]
  },
  {
   "cell_type": "code",
   "execution_count": null,
   "metadata": {},
   "outputs": [],
   "source": [
    "\"\"\"\n",
    "Loading word list from file...\n",
    "55900 words loaded.\n",
    "Welcome to the game, Hangman!\n",
    "I am thinking of a word that is 3 letters long.\n",
    "*************\n",
    "You have 8 guesses left.\n",
    "Available letters: abcdefghijklmnopqrstuvwxyz\n",
    "Please guess a letter: a\n",
    "Oops! That letter is not in my word: _ _ _\n",
    "*************\n",
    "You have 7 guesses left.\n",
    "Available letters: bcdefghijklmnopqrstuvwxyz\n",
    "Please guess a letter: b\n",
    "Oops! That letter is not in my word: _ _ _\n",
    "*************\n",
    "You have 6 guesses left.\n",
    "Available letters: cdefghijklmnopqrstuvwxyz\n",
    "Please guess a letter: c\n",
    "Oops! That letter is not in my word: _ _ _\n",
    "*************\n",
    "You have 5 guesses left.\n",
    "Available letters: defghijklmnopqrstuvwxyz\n",
    "Please guess a letter: d\n",
    "Oops! That letter is not in my word: _ _ _\n",
    "*************\n",
    "You have 4 guesses left.\n",
    "Available letters: efghijklmnopqrstuvwxyz\n",
    "Please guess a letter: e\n",
    "Oops! That letter is not in my word: _ _ _\n",
    "*************\n",
    "You have 3 guesses left.\n",
    "Available letters: fghijklmnopqrstuvwxyz\n",
    "Please guess a letter: f\n",
    "Good guess: f_ _\n",
    "*************\n",
    "You have 3 guesses left.\n",
    "Available letters: ghijklmnopqrstuvwxyz\n",
    "Please guess a letter: g\n",
    "Oops! That letter is not in my word: f_ _\n",
    "*************\n",
    "You have 2 guesses left.\n",
    "Available letters: hijklmnopqrstuvwxyz\n",
    "Please guess a letter: h\n",
    "Oops! That letter is not in my word: f_ _\n",
    "*************\n",
    "You have 1 guesses left.\n",
    "Available letters: ijklmnopqrstuvwxyz\n",
    "Please guess a letter: i\n",
    "Good guess: fi_\n",
    "*************\n",
    "You have 1 guesses left.\n",
    "Available letters: jklmnopqrstuvwxyz\n",
    "Please guess a letter: k\n",
    "Oops! That letter is not in my word: fi_\n",
    "*************\n",
    "Sorry, you ran out of guesses. The word was fit\n",
    "\"\"\""
   ]
  },
  {
   "cell_type": "markdown",
   "metadata": {},
   "source": [
    "#### <font color=\"ff0000\">Please read the Hangman Introduction, including requirements and sample output before starting the game. We'll start by writing 3 simple functions that will help us easily code the Hangman problem.</font>"
   ]
  },
  {
   "cell_type": "markdown",
   "metadata": {},
   "source": [
    "##### <font color=\"0000ff\"> Problem 1 - Is the Word Guessed<font>"
   ]
  },
  {
   "cell_type": "code",
   "execution_count": 1,
   "metadata": {},
   "outputs": [],
   "source": [
    "\"\"\"\n",
    "First, implement the function isWordGuessed that takes in two parameters\n",
    "    - a string: secretWord\n",
    "    - a list of letters: lettersGuessed.\n",
    "\n",
    "This function returns a boolean\n",
    "    - True if secretWord has been guessed (ie, all the letters of secretWord are in lettersGuessed)\n",
    "    - False otherwise.\n",
    "\n",
    "Example Usage:\n",
    "\n",
    "secretWord = 'apple'\n",
    "lettersGuessed = ['e', 'i', 'k', 'p', 'r', 's']\n",
    "\n",
    "print(isWordGuessed(secretWord, lettersGuessed))\n",
    "False\n",
    "\n",
    "For this function, you may assume that all the letters\n",
    "in secretWord and lettersGuessed are lowercase.\n",
    "\"\"\"\n",
    "\n",
    "def isWordGuessed(secretWord, lettersGuessed):\n",
    "    '''\n",
    "    secretWord: string, the word the user is guessing\n",
    "    lettersGuessed: list, what letters have been guessed so far\n",
    "    returns: boolean, True if all the letters of secretWord are in lettersGuessed;\n",
    "      False otherwise\n",
    "    '''\n",
    "    # FILL IN YOUR CODE HERE...\n",
    "    for j in range(len(secretWord)):\n",
    "        if secretWord[j] in lettersGuessed:\n",
    "            continue\n",
    "        else:\n",
    "            return False\n",
    "            break\n",
    "    return True"
   ]
  },
  {
   "cell_type": "code",
   "execution_count": 2,
   "metadata": {},
   "outputs": [
    {
     "name": "stdout",
     "output_type": "stream",
     "text": [
      "False\n",
      "['a', 'p', 'p', 'l', 'e']\n"
     ]
    }
   ],
   "source": [
    "# test your function\n",
    "secretWord = 'apple'\n",
    "lettersGuessed = ['e', 'i', 'k', 'p', 'r', 's']\n",
    "print(isWordGuessed(secretWord, lettersGuessed))\n",
    "print(list(secretWord))"
   ]
  },
  {
   "cell_type": "markdown",
   "metadata": {},
   "source": [
    "##### <font color=\"0000ff\"> Problem 2 - print the guess word<font>"
   ]
  },
  {
   "cell_type": "code",
   "execution_count": 3,
   "metadata": {},
   "outputs": [],
   "source": [
    "\"\"\"\n",
    "implement the function getGuessedWord that takes in two parameters\n",
    "    - a string, secretWord, and\n",
    "    - a list of letters, lettersGuessed.\n",
    "\n",
    "This function returns a string that is comprised of letters and underscores,\n",
    "based on what letters in lettersGuessed are in secretWord. This shouldn't be too different from isWordGuessed!\n",
    "\n",
    "Example Usage:\n",
    "\n",
    "secretWord = 'apple'\n",
    "lettersGuessed = ['e', 'i', 'k', 'p', 'r', 's']\n",
    "print(getGuessedWord(secretWord, lettersGuessed))\n",
    "'_ pp_ e'\n",
    "\n",
    "When inserting underscores into your string, it's a good idea\n",
    "to add at least a space after each one, so it's clear to the\n",
    "user how many unguessed letters are left in the string\n",
    "(compare the readability of ____ with _ _ _ _ ).\n",
    "\n",
    "This is called usability - it's very important,\n",
    "when programming, to consider the usability of your program.\n",
    "If users find your program difficult to understand or operate,\n",
    "they won't use it!\n",
    "\n",
    "For this problem, you are free to use spacing in any way you wish\n",
    "We do encourage you to think about usability when designing.\n",
    "\n",
    "For this function, you may assume that all the letters in\n",
    "secretWord and lettersGuessed are lowercase.\n",
    "\"\"\"\n",
    "\n",
    "def getGuessedWord(secretWord, lettersGuessed):\n",
    "    '''\n",
    "    secretWord: string, the word the user is guessing\n",
    "    lettersGuessed: list, what letters have been guessed so far\n",
    "    returns: string, comprised of letters and underscores that represents\n",
    "      what letters in secretWord have been guessed so far.\n",
    "    '''\n",
    "    # FILL IN YOUR CODE HERE...\n",
    "    result = []\n",
    "    for j in range(len(secretWord)):\n",
    "        if secretWord[j] in lettersGuessed:\n",
    "            result.append(secretWord[j])\n",
    "        else:\n",
    "            result.append('_')\n",
    "    return (\"\".join(result))"
   ]
  },
  {
   "cell_type": "code",
   "execution_count": 4,
   "metadata": {},
   "outputs": [
    {
     "name": "stdout",
     "output_type": "stream",
     "text": [
      "_pp_e\n"
     ]
    }
   ],
   "source": [
    "# test your function\n",
    "secretWord = 'apple'\n",
    "lettersGuessed = ['e', 'i', 'k', 'p', 'r', 's']\n",
    "print(getGuessedWord(secretWord, lettersGuessed))\n"
   ]
  },
  {
   "cell_type": "markdown",
   "metadata": {},
   "source": [
    "##### <font color=\"0000ff\"> Problem 3 - print the avaiable letters<font>"
   ]
  },
  {
   "cell_type": "code",
   "execution_count": 5,
   "metadata": {},
   "outputs": [],
   "source": [
    "\"\"\"\n",
    "implement the function getAvailableLetters that takes\n",
    "in one parameter - a list of letters, lettersGuessed.\n",
    "This function returns a string that is comprised of\n",
    "lowercase English letters - all lowercase English letters\n",
    "that are not in lettersGuessed.\n",
    "\n",
    "Example Usage:\n",
    "\n",
    "lettersGuessed = ['e', 'i', 'k', 'p', 'r', 's']\n",
    "print(getAvailableLetters(lettersGuessed))\n",
    "abcdfghjlmnoqtuvwxyz\n",
    "\n",
    "Note that this function should return the letters in alphabetical order,\n",
    "as in the example above.\n",
    "\n",
    "For this function, you may assume that all the letters in lettersGuessed\n",
    "are lowercase.\n",
    "\n",
    "Hint: You might consider using string.ascii_lowercase,\n",
    "which is a string comprised of all lowercase letters:\n",
    "\n",
    "import string\n",
    "print(string.ascii_lowercase)\n",
    "abcdefghijklmnopqrstuvwxyz\n",
    "\n",
    "\"\"\"\n",
    "import string\n",
    "def getAvailableLetters(lettersGuessed):\n",
    "    '''\n",
    "    lettersGuessed: list, what letters have been guessed so far\n",
    "    returns: string, comprised of letters that represents what letters have not\n",
    "      yet been guessed.\n",
    "    '''\n",
    "    # FILL IN YOUR CODE HERE...\n",
    "    listlowletter = list(string.ascii_lowercase)\n",
    "    for j in lettersGuessed:\n",
    "        if j in listlowletter:\n",
    "            listlowletter.remove(j)\n",
    "        else:\n",
    "            continue\n",
    "    return \"\".join(listlowletter)\n"
   ]
  },
  {
   "cell_type": "code",
   "execution_count": 6,
   "metadata": {},
   "outputs": [
    {
     "name": "stdout",
     "output_type": "stream",
     "text": [
      "abcdfghjlmnoqtuvwxyz\n"
     ]
    }
   ],
   "source": [
    "# test your function\n",
    "lettersGuessed = ['e', 'i', 'k', 'p', 'r', 's']\n",
    "print(getAvailableLetters(lettersGuessed))"
   ]
  },
  {
   "cell_type": "markdown",
   "metadata": {},
   "source": [
    "##### <font color=\"0000ff\"> Problem 4 - implent the function hangman<font>"
   ]
  },
  {
   "cell_type": "markdown",
   "metadata": {},
   "source": [
    "Now you will implement the function hangman, which takes one parameter\n",
    "   - the secretWord the user is to guess. \n",
    "\n",
    "This starts up an interactive game of Hangman between the user and the computer.\n",
    "\n",
    "Be sure you take advantage of the three helper functions, \n",
    "   - isWordGuessed\n",
    "   - getGuessedWord\n",
    "   - getAvailableLetters,\n",
    "\n",
    "that you've defined in the previous part.\n",
    "\n",
    "Hints:\n",
    "\n",
    "- You should start by noticing where we're using the provided functions to load the words and pick a random one.\n",
    "- Consider using lower() to convert user input to lower case. For example:\n",
    "     - guess = 'A'\n",
    "     - guessInLowerCase = guess.lower()\n",
    "\n",
    "- Consider writing additional helper functions if you need them!\n",
    "\n",
    "- There are four important pieces of information you may wish to store:\n",
    "     - secretWord: The word to guess.\n",
    "     - lettersGuessed: The letters that have been guessed so far.\n",
    "     - mistakesMade: The number of incorrect guesses made so far.\n",
    "     - availableLetters: The letters that may still be guessed.\n",
    "- Every time a player guesses a letter, the guessed letter must be removed from availableLetters (and if they guess a letter that is not in availableLetters, you should print a message telling them they've already guessed that - so try again!)."
   ]
  },
  {
   "cell_type": "code",
   "execution_count": 7,
   "metadata": {},
   "outputs": [],
   "source": [
    "# Hangman game\n",
    "#\n",
    "\n",
    "# -----------------------------------\n",
    "# begin of helper code\n",
    "\n",
    "import random\n",
    "\n",
    "WORDLIST_FILENAME = \"words.txt\"\n",
    "\n",
    "def loadWords():\n",
    "    \"\"\"\n",
    "    Returns a list of valid words. Words are strings of lowercase letters.\n",
    "    \n",
    "    Depending on the size of the word list, this function may\n",
    "    take a while to finish.\n",
    "    \"\"\"\n",
    "    print(\"Loading word list from file...\")\n",
    "    inFile = open(WORDLIST_FILENAME, 'r')\n",
    "    line = inFile.readline()\n",
    "    wordlist = line.split()\n",
    "    print(\"  \", len(wordlist), \"words loaded.\")\n",
    "    return wordlist\n",
    "\n",
    "def chooseWord(wordlist):\n",
    "    \"\"\"\n",
    "    wordlist (list): list of words (strings)\n",
    "\n",
    "    Returns a word from wordlist at random\n",
    "    \"\"\"\n",
    "    return random.choice(wordlist)\n",
    "\n",
    "# end of helper code\n",
    "# -----------------------------------"
   ]
  },
  {
   "cell_type": "code",
   "execution_count": 8,
   "metadata": {},
   "outputs": [
    {
     "name": "stdout",
     "output_type": "stream",
     "text": [
      "Loading word list from file...\n",
      "   55909 words loaded.\n"
     ]
    }
   ],
   "source": [
    "# Load the list of words into the variable wordlist\n",
    "# so that it can be accessed from anywhere in the program\n",
    "wordlist = loadWords()"
   ]
  },
  {
   "cell_type": "code",
   "execution_count": 10,
   "metadata": {},
   "outputs": [],
   "source": [
    "def hangman(secretWord):\n",
    "    '''\n",
    "    secretWord: string, the secret word to guess.\n",
    "\n",
    "    Starts up an interactive game of Hangman.\n",
    "\n",
    "    * At the start of the game, let the user know how many \n",
    "      letters the secretWord contains.\n",
    "\n",
    "    * Ask the user to supply one guess (i.e. letter) per round.\n",
    "\n",
    "    * The user should receive feedback immediately after each guess \n",
    "      about whether their guess appears in the computers word.\n",
    "\n",
    "    * After each round, you should also display to the user the \n",
    "      partially guessed word so far, as well as letters that the \n",
    "      user has not yet guessed.\n",
    "\n",
    "    Follows the other limitations detailed in the problem write-up.\n",
    "    '''\n",
    "    # FILL IN YOUR CODE HERE...\n",
    "    \n",
    "\n",
    "    secretWord = chooseWord(wordlist).lower()\n",
    "    print(secretWord)\n",
    "\n",
    "    print('Welcome to the game, Hangman!')\n",
    "    print('I am thinking of a word that is {} letters long.'.format(len(secretWord)))\n",
    "    i = len(secretWord)\n",
    "    lettersGuessed = []\n",
    "    while True:\n",
    "        print('*************')\n",
    "        print('You have {} guesses left.'.format(i))\n",
    "        print('Available letters: {}'.format(getAvailableLetters(lettersGuessed)))\n",
    "        inputletter = input('Please guess a letter: ')\n",
    "        lettersGuessed.append(inputletter)\n",
    "        #print(inputletter)\n",
    "        #print(lettersGuessed)\n",
    "        res = isWordGuessed(inputletter,list(secretWord))\n",
    "        if res and not inputletter == '':\n",
    "            print('Good guess: {}'.format(getGuessedWord(secretWord, lettersGuessed)))\n",
    "        else:\n",
    "            print('Oops! That letter is not in my word: {}'.format(getGuessedWord(secretWord, lettersGuessed)))\n",
    "            i -=1\n",
    "\n",
    "        if i == 0 or inputletter == 'esc':\n",
    "            print('*************\\nSorry, you ran out of guesses. The word was fit')\n",
    "            break\n",
    "        if getGuessedWord(secretWord, lettersGuessed)==secretWord:    \n",
    "            print('*************\\nCongratulations, you won!')\n",
    "            break"
   ]
  },
  {
   "cell_type": "code",
   "execution_count": 11,
   "metadata": {},
   "outputs": [
    {
     "name": "stdout",
     "output_type": "stream",
     "text": [
      "vertigines\n",
      "Welcome to the game, Hangman!\n",
      "I am thinking of a word that is 10 letters long.\n",
      "*************\n",
      "You have 10 guesses left.\n",
      "Available letters: abcdefghijklmnopqrstuvwxyz\n",
      "Please guess a letter: v\n",
      "Good guess: v_________\n",
      "*************\n",
      "You have 10 guesses left.\n",
      "Available letters: abcdefghijklmnopqrstuwxyz\n",
      "Please guess a letter: e\n",
      "Good guess: ve______e_\n",
      "*************\n",
      "You have 10 guesses left.\n",
      "Available letters: abcdfghijklmnopqrstuwxyz\n",
      "Please guess a letter: r\n",
      "Good guess: ver_____e_\n",
      "*************\n",
      "You have 10 guesses left.\n",
      "Available letters: abcdfghijklmnopqstuwxyz\n",
      "Please guess a letter: t\n",
      "Good guess: vert____e_\n",
      "*************\n",
      "You have 10 guesses left.\n",
      "Available letters: abcdfghijklmnopqsuwxyz\n",
      "Please guess a letter: i\n",
      "Good guess: verti_i_e_\n",
      "*************\n",
      "You have 10 guesses left.\n",
      "Available letters: abcdfghjklmnopqsuwxyz\n",
      "Please guess a letter: s\n",
      "Good guess: verti_i_es\n",
      "*************\n",
      "You have 10 guesses left.\n",
      "Available letters: abcdfghjklmnopquwxyz\n",
      "Please guess a letter: n\n",
      "Good guess: verti_ines\n",
      "*************\n",
      "You have 10 guesses left.\n",
      "Available letters: abcdfghjklmopquwxyz\n",
      "Please guess a letter: a\n",
      "Oops! That letter is not in my word: verti_ines\n",
      "*************\n",
      "You have 9 guesses left.\n",
      "Available letters: bcdfghjklmopquwxyz\n",
      "Please guess a letter: g\n",
      "Good guess: vertigines\n",
      "*************\n",
      "Congratulations, you won!\n"
     ]
    }
   ],
   "source": [
    "# When you've completed your hangman function, uncomment these two lines\n",
    "# and run this file to test! \n",
    "\n",
    "secretWord = chooseWord(wordlist).lower()\n",
    "hangman(secretWord)"
   ]
  },
  {
   "cell_type": "code",
   "execution_count": null,
   "metadata": {},
   "outputs": [],
   "source": []
  }
 ],
 "metadata": {
  "kernelspec": {
   "display_name": "Python 3",
   "language": "python",
   "name": "python3"
  },
  "language_info": {
   "codemirror_mode": {
    "name": "ipython",
    "version": 3
   },
   "file_extension": ".py",
   "mimetype": "text/x-python",
   "name": "python",
   "nbconvert_exporter": "python",
   "pygments_lexer": "ipython3",
   "version": "3.6.8"
  }
 },
 "nbformat": 4,
 "nbformat_minor": 2
}
