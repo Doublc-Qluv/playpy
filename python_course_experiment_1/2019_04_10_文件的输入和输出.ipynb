{
 "cells": [
  {
   "cell_type": "markdown",
   "metadata": {},
   "source": [
    "### <font color=#ff00ff size=5 face=\"黑体\"> 练习1</font>\n",
    "写一个函数，接收两个正整数 a 和 b (a 小于 b)为参数， 函数返回 a 和 b 之间（包含a和b）所有奇数的列表，奇数按照从大到小的顺序排列。"
   ]
  },
  {
   "cell_type": "code",
   "execution_count": 1,
   "metadata": {},
   "outputs": [],
   "source": [
    "def odds(a, b):\n",
    "    result = []\n",
    "    if not b%2:\n",
    "        b -=1\n",
    "    for i in range(b,a-1,-2):\n",
    "        result.append(i)\n",
    "    return result"
   ]
  },
  {
   "cell_type": "code",
   "execution_count": 3,
   "metadata": {},
   "outputs": [
    {
     "name": "stdout",
     "output_type": "stream",
     "text": [
      "a=3\n",
      "b=9\n"
     ]
    },
    {
     "data": {
      "text/plain": [
       "[9, 7, 5, 3]"
      ]
     },
     "execution_count": 3,
     "metadata": {},
     "output_type": "execute_result"
    }
   ],
   "source": [
    "a=int(input(\"a=\"))\n",
    "b=int(input(\"b=\"))\n",
    "odds(a,b)"
   ]
  },
  {
   "cell_type": "markdown",
   "metadata": {},
   "source": [
    "### <font color=#ff00ff size=5 face=\"黑体\"> 练习2</font>"
   ]
  },
  {
   "cell_type": "code",
   "execution_count": 17,
   "metadata": {},
   "outputs": [],
   "source": [
    "\"\"\"\n",
    "写一个函数名为 construct_dictionary_from_lists，\n",
    "接收3个一维列表为参数（假设三个列表的长度相同），并且返回一个字典.\n",
    "\n",
    "1) 第一个列表有 n 个字符串，表示每个人的姓名；\n",
    "2) 第二个列表有 n 个整数， 表示每个人的年龄；\n",
    "3) 第三个列表有 n 个整数， 表示每个人的分数。\n",
    "\n",
    "如果一个人的分数在60分及以上，表示通过，否则未通过。\n",
    "\n",
    "函数返回的字典的键是每个人的名字，键所对应的值是一个列表，\n",
    "包括年龄，分数，以及是否通过 'pass' or 'fail'.\n",
    "\n",
    "比如，函数接收如下参数:\n",
    "([\"paul\", \"saul\", \"steve\", \"chimpy\"], [28, 59, 22, 5], [59, 85, 55, 60])\n",
    "函数的返回值为一个字典:\n",
    "{'steve': [22, 55, 'fail'],\n",
    "'saul': [59, 85, 'pass'],\n",
    "'paul': [28, 59, 'fail'],\n",
    "'chimpy': [5, 60, 'pass']}\n",
    "\"\"\"\n",
    "# your code is here\n",
    "def construct_dictionary_from_lists(names,ages,scores):\n",
    "    outdic = {}\n",
    "    for i in range(len(names)):\n",
    "        if scores[i]<60:\n",
    "            outdic[names[i]]=[ages[i],scores[i],'fail']\n",
    "        else:\n",
    "            outdic[names[i]]=[ages[i],scores[i],'pass']\n",
    "    return outdic"
   ]
  },
  {
   "cell_type": "code",
   "execution_count": 18,
   "metadata": {},
   "outputs": [
    {
     "name": "stdout",
     "output_type": "stream",
     "text": [
      "{'paul': [28, 59, 'fail'], 'saul': [59, 85, 'pass'], 'steve': [22, 55, 'fail'], 'chimpy': [5, 60, 'pass']}\n"
     ]
    }
   ],
   "source": [
    "#\n",
    "names = [\"paul\", \"saul\", \"steve\", \"chimpy\"]\n",
    "ages = [28, 59, 22, 5]\n",
    "scores = [59, 85, 55, 60]\n",
    "print(construct_dictionary_from_lists(names,ages,scores))"
   ]
  },
  {
   "cell_type": "markdown",
   "metadata": {},
   "source": [
    "### <font color=#ff00ff size=5 face=\"黑体\"> 练习3</font>"
   ]
  },
  {
   "cell_type": "code",
   "execution_count": 21,
   "metadata": {},
   "outputs": [],
   "source": [
    "def add_a_capitol(a_dict, a_state, a_city):\n",
    "    a_dict[a_state] = a_city\n",
    "    return a_dict"
   ]
  },
  {
   "cell_type": "code",
   "execution_count": 22,
   "metadata": {},
   "outputs": [
    {
     "name": "stdout",
     "output_type": "stream",
     "text": [
      "{'Georgia': 'Atlanta', 'Idaho': 'Boise', 'Maine': 'Augusta', 'Texas': 'Austin'}\n"
     ]
    }
   ],
   "source": [
    "my_capitols = {\"Georgia\": \"Atlanta\", \"Idaho\": \"Boise\", \"Maine\": \"Augusta\"}\n",
    "my_capitols = add_a_capitol(my_capitols, \"Texas\", \"Austin\")\n",
    "print(my_capitols)"
   ]
  },
  {
   "cell_type": "markdown",
   "metadata": {},
   "source": [
    "### 文件\n",
    "- open()\n",
    "- read(),readline,readlines()\n",
    "- write(),writelines()"
   ]
  },
  {
   "cell_type": "markdown",
   "metadata": {},
   "source": [
    "### [Reading and writing files](https://docs.python.org/3.6/tutorial/inputoutput.html#reading-and-writing-files)"
   ]
  },
  {
   "cell_type": "code",
   "execution_count": 24,
   "metadata": {},
   "outputs": [
    {
     "name": "stdout",
     "output_type": "stream",
     "text": [
      "my_str1 is: ascv \n",
      "my_str2 is: sds fdv\n",
      "a \n",
      "my_str3 is: sfdbfv\n",
      "avds fdv\n",
      "waesfdw\n",
      "vesdf\n",
      "    r2q34w\n",
      "            qe2rqwr\n",
      "            qwe\n",
      "            rqwe\n",
      "            hwejrt\n",
      "            3q4y53u64\n"
     ]
    }
   ],
   "source": [
    "# open(filename,mode): returns a file object\n",
    "my_file = open('test_file.txt','r')\n",
    "my_str1 = my_file.read(5)\n",
    "my_str2 = my_file.read(10)\n",
    "my_str3 = my_file.read()\n",
    "print(\"my_str1 is:\",my_str1)\n",
    "print(\"my_str2 is:\",my_str2)\n",
    "print(\"my_str3 is:\",my_str3)\n",
    "my_file.close()"
   ]
  },
  {
   "cell_type": "code",
   "execution_count": 28,
   "metadata": {},
   "outputs": [
    {
     "ename": "FileNotFoundError",
     "evalue": "[Errno 2] No such file or directory: 'OutputFile1.txt'",
     "output_type": "error",
     "traceback": [
      "\u001b[0;31m---------------------------------------------------------------------------\u001b[0m",
      "\u001b[0;31mFileNotFoundError\u001b[0m                         Traceback (most recent call last)",
      "\u001b[0;32m<ipython-input-28-5e4f54719968>\u001b[0m in \u001b[0;36m<module>\u001b[0;34m\u001b[0m\n\u001b[0;32m----> 1\u001b[0;31m \u001b[0minputFile\u001b[0m \u001b[0;34m=\u001b[0m \u001b[0mopen\u001b[0m\u001b[0;34m(\u001b[0m\u001b[0;34m\"OutputFile1.txt\"\u001b[0m\u001b[0;34m,\u001b[0m \u001b[0;34m\"r\"\u001b[0m\u001b[0;34m)\u001b[0m\u001b[0;34m\u001b[0m\u001b[0;34m\u001b[0m\u001b[0m\n\u001b[0m\u001b[1;32m      2\u001b[0m \u001b[0minputFile\u001b[0m \u001b[0;34m=\u001b[0m \u001b[0mopen\u001b[0m\u001b[0;34m(\u001b[0m\u001b[0;34m\"test_file.txt\"\u001b[0m\u001b[0;34m,\u001b[0m \u001b[0;34m\"r\"\u001b[0m\u001b[0;34m)\u001b[0m\u001b[0;34m\u001b[0m\u001b[0;34m\u001b[0m\u001b[0m\n\u001b[1;32m      3\u001b[0m \u001b[0;34m\u001b[0m\u001b[0m\n\u001b[1;32m      4\u001b[0m \u001b[0mprint\u001b[0m\u001b[0;34m(\u001b[0m\u001b[0minputFile\u001b[0m\u001b[0;34m)\u001b[0m\u001b[0;34m\u001b[0m\u001b[0;34m\u001b[0m\u001b[0m\n",
      "\u001b[0;31mFileNotFoundError\u001b[0m: [Errno 2] No such file or directory: 'OutputFile1.txt'"
     ]
    }
   ],
   "source": [
    "inputFile = open(\"OutputFile1.txt\", \"r\")\n",
    "inputFile = open(\"test_file.txt\", \"r\")\n",
    "\n",
    "print(inputFile)"
   ]
  },
  {
   "cell_type": "code",
   "execution_count": 27,
   "metadata": {},
   "outputs": [
    {
     "data": {
      "text/plain": [
       "'ascv sds fdv\\n'"
      ]
     },
     "execution_count": 27,
     "metadata": {},
     "output_type": "execute_result"
    }
   ],
   "source": [
    "#Print the next line of inputFile\n",
    "inputFile.readline()"
   ]
  },
  {
   "cell_type": "code",
   "execution_count": 29,
   "metadata": {},
   "outputs": [
    {
     "name": "stdout",
     "output_type": "stream",
     "text": [
      "a sfdbfv\n",
      "avds fdv\n",
      "\n",
      "Hello\n"
     ]
    }
   ],
   "source": [
    "#Print the next line of inputFile\n",
    "print(inputFile.readline().strip())\n",
    "#Print the next line of inputFile\n",
    "print(inputFile.readline())\n",
    "# a newline character (\\n) is left at the end of the string,\n",
    "# and is only omitted on the last line of the file if the file\n",
    "# doesn't end in a newline.\n",
    "print('Hello')\n",
    "inputFile.close()"
   ]
  },
  {
   "cell_type": "markdown",
   "metadata": {},
   "source": [
    "<font color=#ff00ff size=5 face=\"黑体\"> 练习4： </font>"
   ]
  },
  {
   "cell_type": "code",
   "execution_count": 51,
   "metadata": {},
   "outputs": [],
   "source": [
    "# Write a function called \"load_file\" that accepts one parameter: a filename. \n",
    "# The function should open the file and return the contents.\n",
    "\n",
    "# If the contents of the file can be interpreted as an integer, return the contents as an integer.\n",
    "# Otherwise, if the contents of the file can be interpreted as a float, return the contents as a float.\n",
    "# Otherwise, return the contents of the file as a string.\n",
    "# You may assume that the file has only one line.\n",
    "\n",
    "\n",
    "# Write your function here!\n",
    "def load_file(filename):\n",
    "    _file = open(filename)\n",
    "    try:\n",
    "        op = eval(_file.read())\n",
    "        if isinstance(op,int):\n",
    "            return int(op)\n",
    "        elif isinstance(op,float):\n",
    "            return float(op)\n",
    "        else:\n",
    "            return op\n",
    "    except NameError:\n",
    "        op = _file.read()\n",
    "        return op\n",
    "    finally:\n",
    "        _file.close()\n",
    "        \n",
    "    \n",
    "\n"
   ]
  },
  {
   "cell_type": "code",
   "execution_count": 52,
   "metadata": {},
   "outputs": [
    {
     "name": "stdout",
     "output_type": "stream",
     "text": [
      "\n",
      "<class 'str'>\n"
     ]
    }
   ],
   "source": [
    "filename = \"oneline\"  # fill your filename here\n",
    "contents = load_file(filename)\n",
    "print(contents)\n",
    "print(type(contents))"
   ]
  },
  {
   "cell_type": "markdown",
   "metadata": {},
   "source": [
    "##### readlines用法"
   ]
  },
  {
   "cell_type": "code",
   "execution_count": 54,
   "metadata": {},
   "outputs": [
    {
     "name": "stdout",
     "output_type": "stream",
     "text": [
      "['(while True)\\n', '(I loop)\\n', '(True)\\n', '(loop)']\n",
      "['(loop)', '(True)', '(I loop)', '(while True)']\n"
     ]
    }
   ],
   "source": [
    "poem2_file = open(\"poem_2\",\"r\")\n",
    "poem2_lines = poem2_file.readlines()\n",
    "print(poem2_lines)\n",
    "\n",
    "for i in range(len(poem2_lines)):\n",
    "    poem2_lines[i] = poem2_lines[i].strip()\n",
    "\n",
    "poem2_lines.reverse()\n",
    "print(poem2_lines)"
   ]
  },
  {
   "cell_type": "markdown",
   "metadata": {},
   "source": [
    "<font color=#ff00ff size=5 face=\"黑体\"> 练习5： </font>"
   ]
  },
  {
   "cell_type": "code",
   "execution_count": 58,
   "metadata": {},
   "outputs": [
    {
     "name": "stdout",
     "output_type": "stream",
     "text": [
      "while True\n",
      "I loop\n",
      "True\n",
      "loop\n"
     ]
    }
   ],
   "source": [
    "# open poem2_messy.txt as poem2_messy in read mode\n",
    "\n",
    "# use while loop to strip the leading and trailing parentheses,\n",
    "# and print the poem without blank lines\n",
    "\n",
    "\n",
    "poem2_file = open(\"poem_2\",\"r\")\n",
    "lines = poem2_file.readline().strip('(\\n)')\n",
    "\n",
    "while lines:\n",
    "    print(lines)\n",
    "    lines = poem2_file.readline().strip('(\\n)')\n",
    "\n",
    "# close poem2_messy\n",
    "poem2_file.close()"
   ]
  },
  {
   "cell_type": "markdown",
   "metadata": {},
   "source": [
    "##### write用法"
   ]
  },
  {
   "cell_type": "code",
   "execution_count": 61,
   "metadata": {},
   "outputs": [],
   "source": [
    "myInt = 12\n",
    "myString = \"Hello,world!\"\n",
    "myFloat = 3.0\n",
    "\n",
    "outputFile = open(\"OutputFile2.txt\",\"w\")\n",
    "# outputFile.write() can only write strings\n",
    "# so we have to convert our variables to strings\n",
    "# before writing them\n",
    "outputFile.write(str(myInt)+'\\n')\n",
    "outputFile.write(myString+'\\n')\n",
    "outputFile.write(str(myFloat)+'\\n')\n",
    "outputFile.close()"
   ]
  },
  {
   "cell_type": "code",
   "execution_count": 62,
   "metadata": {},
   "outputs": [],
   "source": [
    "myList = [\"David\", \"Lucy\", \"Vrushali\", \"Ping\",\n",
    "          \"Natalie\", \"Dana\", \"Addison\", \"Jasmine\"]\n",
    "\n",
    "#Open OutputFile.txt in write mode\n",
    "outputFile = open(\"OutputFile3.txt\", \"w\")\n",
    "\n",
    "#For each name in myList\n",
    "for name in myList:\n",
    "    #Write the name to the file on its own line\n",
    "    outputFile.write(name+'\\n')\n",
    "\n",
    "outputFile.close()"
   ]
  },
  {
   "cell_type": "code",
   "execution_count": 66,
   "metadata": {},
   "outputs": [],
   "source": [
    "myList = [\"David\", \"Lucy\", \"Vrushali\", \"Ping\",\n",
    "          \"Natalie\", \"Dana\", \"Addison\", \"Jasmine\"]\n",
    "\n",
    "# Open OutputFile.txt in write mode\n",
    "outputFile = open(\"OutputFile3.txt\", \"w\")\n",
    "\n",
    "# For each name in myList\n",
    "for name in myList:\n",
    "    # Write the name to the file on its own line\n",
    "    print(name, file=outputFile)\n",
    "\n",
    "outputFile.close()"
   ]
  },
  {
   "cell_type": "markdown",
   "metadata": {},
   "source": [
    "### file.seek(offset[,whence=0])\n",
    "- offset开始的偏移量，whence表示从哪个位置开始偏移\n",
    "\n",
    "whence mode    |             description\n",
    ":---|---:\n",
    "    0    |               points to the beginning of the file\n",
    "    1    |              points to the current location\n",
    "    2    |             points to the end of the file & offset is always 0\n",
    "\n"
   ]
  },
  {
   "cell_type": "markdown",
   "metadata": {},
   "source": [
    "<font color=#ff00ff size=5 face=\"黑体\"> 练习6： </font>"
   ]
  },
  {
   "cell_type": "code",
   "execution_count": 93,
   "metadata": {},
   "outputs": [
    {
     "name": "stdout",
     "output_type": "stream",
     "text": [
      "First:\n",
      "Monday\n",
      "Tuesday\n",
      "Wednesday\n",
      "Thursday\n",
      "Friday\n",
      "\n",
      "Second:\n",
      "Monday\n",
      "Tuesday\n",
      "Wednesday\n",
      "Thursday\n",
      "Friday\n",
      "Saturday\n",
      "Sunday\n",
      "\n"
     ]
    }
   ],
   "source": [
    "# open a new file days.txt in write plus read mode 'w+'\n",
    "dayfile = open('days.txt','w+')\n",
    "# write week days (Monday - Friday) on separate lines to the file\n",
    "days = ['Monday','Tuesday','Wednesday','Thursday','Friday']\n",
    "for day in days:\n",
    "    # Write the name to the file on its own line\n",
    "    print(day, file=dayfile)\n",
    "\n",
    "# use .seek() to move the pointer to the start of the file\n",
    "dayfile.seek(0,0)\n",
    "# use .read() to read the entire file contents\n",
    "\n",
    "# print the entire file contents\n",
    "print('First:\\n'+dayfile.read())\n",
    "# use .seek() to move the pointer to the end of the file\n",
    "dayfile.seek(0,2)\n",
    "# write the weekend days (Saturday & Sunday)\n",
    "dayfile.write('Saturday\\n')\n",
    "dayfile.write('Sunday\\n')\n",
    "# use .seek() to move the pointer to the start of the file\n",
    "dayfile.seek(0,0)\n",
    "# use .read() to read the entire file contents\n",
    "\n",
    "# print the entire file contents and close the file\n",
    "print('Second:\\n'+dayfile.read())\n",
    "dayfile.close()"
   ]
  },
  {
   "cell_type": "markdown",
   "metadata": {},
   "source": [
    "### 上下文管理语句with\n",
    "- with可以自动管理资源，不论因为什么原因（哪怕是代码引发了异常）跳出with块，总能保证文件被正确关闭，可以在代码块执行完毕后自动还原进入该代码块时的上下文。 "
   ]
  },
  {
   "cell_type": "code",
   "execution_count": 94,
   "metadata": {},
   "outputs": [],
   "source": [
    "string1 = \"Hello world\\n文本文件的读取方法\\n文本文件的写入方法\\n\"\n",
    "with open('sample.txt','w') as fp:\n",
    "    fp.write(string1)"
   ]
  },
  {
   "cell_type": "code",
   "execution_count": 95,
   "metadata": {},
   "outputs": [
    {
     "name": "stdout",
     "output_type": "stream",
     "text": [
      "Hello world\n",
      "文本文件的读取方法\n",
      "文本文件的写入方法\n",
      "\n"
     ]
    }
   ],
   "source": [
    "with open('sample.txt','r') as fp:\n",
    "    print(fp.read())"
   ]
  },
  {
   "cell_type": "markdown",
   "metadata": {},
   "source": [
    "<font color=#ff00ff size=5 face=\"黑体\"> 作业： </font>\n",
    "# Part1 : write a function to read a file and create a dictionary"
   ]
  },
  {
   "cell_type": "code",
   "execution_count": 96,
   "metadata": {},
   "outputs": [],
   "source": [
    "\"\"\"\n",
    "Part 1: Read file and create dictionary\n",
    "Write a function named create_grades_dict that accepts a string as the name of a file.\n",
    "Assuming that the file is a text file which includes name and grades of students,\n",
    "your function should read the file and return a dictionary with the exact format as shown below:\n",
    "\n",
    "The format of the input file is:\n",
    "Student ID, Last_name,  Test_x, grade, Test_x, grade, ..\n",
    "Student ID, Last_name,  Test_x, grade, Test_x, grade, ..\n",
    "Student ID, Last_name,  Test_x, grade, Test_x, grade, ..\n",
    "....\n",
    "\n",
    "An example of the input file is shown below.\n",
    "Sample Input\n",
    "Assuming that the input file \"student_grades.txt\" contains the following text:\n",
    "1000123456, Rubble, Test_3,  80, Test_4 , 80\n",
    "1000123459, Chipmunk, Test_4, 96, Test_1, 86 , Quiz_1 , 88\n",
    "\n",
    "Notes:\n",
    "1)Items are separated by comma and one or more spaces may exist between the items.\n",
    "2)The \"ID\" of each student is unique. Two students may have the same Name (but IDs will be different);\n",
    "3)The \"Name\" of each student will only include a last name with no punctuation. Maximum of 15 characters.\n",
    "4)There will be an integer grade for each test (0-100) \n",
    "5)There are only four valid tests, i.e. Test_1, Test_2, Test_3, Test_4. \n",
    "There may be other grades in the file and you should ignore those grades.\n",
    "6)Each student may have missing grade(s) for the tests.A missing grades should be considered as 0.\n",
    "7)Grades may not be in order i.e. Test_3 may appear before Test_1.\n",
    "\n",
    "Your function should read the input file, calculate the average test grade for each student and \n",
    "return a dictionary with the following format:\n",
    "{'Student_ID':[Last_name,Test_1_grade,Test_2_grade,Test_3_grade,Test_4_grade,average], ...}\n",
    "\n",
    "For example in the case of sample input file shown above,your function should return the following dictionary:\n",
    "{'1000123456': ['Rubble', 0, 0, 80, 80, 40.0],\n",
    "'1000123459': ['Chipmunk', 86, 0, 0, 96, 45.5]}\n",
    "\"\"\"\n",
    "# Type your code here\n",
    "def create_grades_dict(filename):\n",
    "    with open(filename,'r') as file:\n",
    "        dict_1={}\n",
    "        for i in file.readlines():\n",
    "            a=i.strip().replace(' ','').split(',')\n",
    "            grade=[]\n",
    "            n=0\n",
    "            total=0\n",
    "            for j in ['Test_1','Test_2','Test_3','Test_4']:\n",
    "                if j in a:\n",
    "                    grade.append(int(a[a.index(j)+1]))\n",
    "                    total=total+int(a[a.index(j)+1])\n",
    "                    n=n+1\n",
    "                else:\n",
    "                    grade.append(0)\n",
    "            grade.append(total/n)\n",
    "            grade.insert(0,a[1])\n",
    "            dict_1[a[0]]=grade\n",
    "        return dict_1\n",
    "\n"
   ]
  },
  {
   "cell_type": "code",
   "execution_count": 97,
   "metadata": {},
   "outputs": [
    {
     "data": {
      "text/plain": [
       "{'1000123456': ['Rubble', 0, 0, 80, 80, 80.0],\n",
       " '1000123210': ['Bunny', 100, 100, 100, 100, 100.0],\n",
       " '1000123458': ['Duck', 86, 93, 0, 94, 91.0]}"
      ]
     },
     "execution_count": 97,
     "metadata": {},
     "output_type": "execute_result"
    }
   ],
   "source": [
    "# print the return value of your function\n",
    "create_grades_dict('name_grade.txt')"
   ]
  },
  {
   "cell_type": "markdown",
   "metadata": {},
   "source": [
    "# Part2: write a function to print the grades"
   ]
  },
  {
   "cell_type": "code",
   "execution_count": 98,
   "metadata": {},
   "outputs": [],
   "source": [
    "\"\"\"\n",
    "Part 2: Print grades\n",
    "Write a function called print_grades that accepts the name of a file (string) as input argument. \n",
    "Assuming the format of the file is the same as the file in part 1, your function should call \n",
    "the function that you developed in part 1 to read the file and create the grades dictionary. \n",
    "Using the grades dictionary, your function should print the names, grades, and averages of students with \n",
    "the exact format shown below. \n",
    "Notice that you are asked to write a function (NOT a program) and that function prints the grades. \n",
    "Your function should return None after printing the grades.\n",
    "\n",
    "Sample Input file:\n",
    "\n",
    "1000123456, Rubble, Test_3,  80, Test_4 , 80, quiz , 90\n",
    "1000123210, Bunny, Test_2, 100, Test_1, 100,Test_3   , 100 ,Test_4 , 100\n",
    "1000123458, Duck, Test_1, 86, Test_5   , 100 , Test_2 ,93 ,Test_4, 94\n",
    "\n",
    "# Your program's output should be:\n",
    "    ID     |       Name       | Test_1 | Test_2 | Test_3 | Test_4 |  Avg.  |\n",
    "1000123210 | Bunny            |    100 |    100 |    100 |    100 | 100.00 |\n",
    "1000123456 | Rubble           |      0 |      0 |     80 |     80 |  40.00 |\n",
    "1000123458 | Duck             |     86 |     93 |      0 |     94 |  68.25 |\n",
    "\n",
    "# Notes:\n",
    "1)Column titles are all centered\n",
    "2)The printed output is sorted in ascending order based on the student IDs\n",
    "3)Each column is separated from a neighboring column(s) by three characters '| ' (space vertical_bar space).\n",
    "4)IDs are always 10 characters and they are left justified (not counting the boundary characters)\n",
    "5)Names are left justified (maximum of 16 characters, not counting the boundary characters).\n",
    "6)Grades and averages are right justified. The width of the columns for the grades and averages is 6 characters \n",
    "(not counting the boundary characters).\n",
    "7)Averages are right justified with two digits of accuracy after the decimal point.\n",
    "\n",
    "# Hint: Use the function which you developed in part 1 to read the input file and create a dictionary. \n",
    "Use .format() to format the output.\n",
    "\"\"\"\n",
    "# Type your code here\n",
    "def print_grades(filename):\n",
    "    dict_2=create_grades_dict(filename)\n",
    "    print('{}{}{}{}{}{}{}'.format('ID'.center(10)+' | ','Name'.center(16)+' | ','Test_1'.center(6)+' | ','Test_2'.center(6)+' | ','Test_3'.center(6)+' | ','Test_4'.center(6)+' | ','Avg.'.center(6)+' | '))\n",
    "    for key,value in dict_2.items():\n",
    "        #for i,num in enumerate(value):\n",
    "        #    value[i]=str(num)\n",
    "        print('{} | {} | {:6d} | {:6d} | {:6d} | {:6d} | {:6.2f} | '.format(key.ljust(10),value[0].ljust(16),value[1],value[2],value[3],value[4],value[5]))"
   ]
  },
  {
   "cell_type": "code",
   "execution_count": 99,
   "metadata": {},
   "outputs": [
    {
     "name": "stdout",
     "output_type": "stream",
     "text": [
      "    ID     |       Name       | Test_1 | Test_2 | Test_3 | Test_4 |  Avg.  | \n",
      "1000123456 | Rubble           |      0 |      0 |     80 |     80 |  80.00 | \n",
      "1000123210 | Bunny            |    100 |    100 |    100 |    100 | 100.00 | \n",
      "1000123458 | Duck             |     86 |     93 |      0 |     94 |  91.00 | \n"
     ]
    }
   ],
   "source": [
    "# print the return value of your function\n",
    "print_grades('name_grade.txt')\n"
   ]
  },
  {
   "cell_type": "code",
   "execution_count": null,
   "metadata": {},
   "outputs": [],
   "source": []
  }
 ],
 "metadata": {
  "kernelspec": {
   "display_name": "Python 3",
   "language": "python",
   "name": "python3"
  },
  "language_info": {
   "codemirror_mode": {
    "name": "ipython",
    "version": 3
   },
   "file_extension": ".py",
   "mimetype": "text/x-python",
   "name": "python",
   "nbconvert_exporter": "python",
   "pygments_lexer": "ipython3",
   "version": "3.6.8"
  }
 },
 "nbformat": 4,
 "nbformat_minor": 2
}
