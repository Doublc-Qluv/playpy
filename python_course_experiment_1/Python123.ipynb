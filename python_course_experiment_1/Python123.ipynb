{
 "cells": [
  {
   "cell_type": "code",
   "execution_count": 1,
   "metadata": {},
   "outputs": [
    {
     "name": "stdout",
     "output_type": "stream",
     "text": [
      "0 \n",
      "0 1 \n",
      "0 1 2 \n",
      "0 1 2 3 \n",
      "0 1 2 3 4 \n"
     ]
    }
   ],
   "source": [
    "for i in range(1, 6):\n",
    "    j = 0\n",
    "    while j < i:\n",
    "        print(j, end = \" \")\n",
    "        j += 1\n",
    "    print(\"\")"
   ]
  },
  {
   "cell_type": "code",
   "execution_count": 2,
   "metadata": {},
   "outputs": [
    {
     "name": "stdout",
     "output_type": "stream",
     "text": [
      "\n",
      "1 \n",
      "2 1 \n",
      "3 2 1 \n",
      "4 3 2 1 \n"
     ]
    }
   ],
   "source": [
    "i = 0\n",
    "while i < 5:\n",
    "    j = i\n",
    "    while j > 0:\n",
    "        print(j, end=\" \")\n",
    "        j -= 1\n",
    "    i += 1\n",
    "    print(\"\")"
   ]
  },
  {
   "cell_type": "code",
   "execution_count": 3,
   "metadata": {},
   "outputs": [
    {
     "name": "stdout",
     "output_type": "stream",
     "text": [
      "5 4 3 2 1 \n",
      "4 3 2 1 \n",
      "3 2 1 \n",
      "2 1 \n",
      "1 \n"
     ]
    }
   ],
   "source": [
    "i = 5\n",
    "while i > 0:\n",
    "    j = i\n",
    "    while j > 0:\n",
    "        print(j, end=\" \")\n",
    "        j -= 1\n",
    "    i -= 1\n",
    "    print(\"\")"
   ]
  },
  {
   "cell_type": "code",
   "execution_count": 5,
   "metadata": {},
   "outputs": [
    {
     "name": "stdout",
     "output_type": "stream",
     "text": [
      "1$2$3\n",
      "4 5 6#7_8_9!"
     ]
    }
   ],
   "source": [
    "print(1, 2, 3, sep = \"$\")\n",
    "print(4, 5, 6, end = \"#\")\n",
    "print(7, 8, 9, sep = \"_\", end = \"!\")"
   ]
  },
  {
   "cell_type": "code",
   "execution_count": 7,
   "metadata": {},
   "outputs": [
    {
     "name": "stdout",
     "output_type": "stream",
     "text": [
      "ABCDEFDEFGHI\n"
     ]
    }
   ],
   "source": [
    "myString = \"DEF\"\n",
    "myString *= 2\n",
    "myString += \"GHI\"\n",
    "myString = \"ABC\" + myString\n",
    "print(myString)"
   ]
  },
  {
   "cell_type": "code",
   "execution_count": 8,
   "metadata": {},
   "outputs": [
    {
     "name": "stdout",
     "output_type": "stream",
     "text": [
      "{'Cinderella': 'blue', 'Belle': 'yellow', 'Mulan': 'red', 'Tiana': 'green', 'Rapunzel': 'purple'}\n"
     ]
    }
   ],
   "source": [
    "myDictionary = {'Cinderella':'blue', 'Belle':'yellow', 'Mulan':'red', 'Tiana':'green', 'Rapunzel':'purple'}\n",
    "print(myDictionary)"
   ]
  },
  {
   "cell_type": "code",
   "execution_count": 10,
   "metadata": {},
   "outputs": [],
   "source": [
    "monthlySpending = {\"food\":150, \"rent\":750, \"electric\":100}"
   ]
  },
  {
   "cell_type": "code",
   "execution_count": 15,
   "metadata": {},
   "outputs": [
    {
     "name": "stdout",
     "output_type": "stream",
     "text": [
      "True\n"
     ]
    }
   ],
   "source": [
    "found = \"\" in \"Welcome to CS1301!\"\n",
    "print(found)"
   ]
  },
  {
   "cell_type": "code",
   "execution_count": 18,
   "metadata": {},
   "outputs": [
    {
     "data": {
      "text/plain": [
       "{'David': 19,\n",
       " 'Sasha': 21,\n",
       " 'Jing': 16,\n",
       " 'Lucy': 19,\n",
       " 'Marguerite': 20,\n",
       " 'Maria': 22}"
      ]
     },
     "execution_count": 18,
     "metadata": {},
     "output_type": "execute_result"
    }
   ],
   "source": [
    "gradebook = {\"David\": 17, \"Sasha\": 21, \"Jing\": 16, \"Lucy\": 19, \"Marguerite\": 20, \"Maria\": 22}\n",
    "gradebook[\"David\"] = 19\n",
    "gradebook"
   ]
  },
  {
   "cell_type": "code",
   "execution_count": 1,
   "metadata": {},
   "outputs": [
    {
     "name": "stdout",
     "output_type": "stream",
     "text": [
      "city's name with 'a': []\n",
      "city's name without 'a': []\n"
     ]
    }
   ],
   "source": [
    "cities = [\"New York\", \"Shanghai\", \"Munich\", \"Tokyo\",\n",
    "          \"Dubai\",\"Mexico City\", \"São Paulo\", \"Hyderabad\"]\n",
    "\n",
    "a_city = []  # city name with 'a' or 'A' \n",
    "no_a_city = []  # city name without 'a' or 'A'\n",
    "\n",
    "# your code is here\n",
    "\n",
    "\n",
    "print(\"city's name with 'a':\",a_city)\n",
    "print(\"city's name without 'a':\",no_a_city)"
   ]
  },
  {
   "cell_type": "code",
   "execution_count": 2,
   "metadata": {},
   "outputs": [
    {
     "name": "stdout",
     "output_type": "stream",
     "text": [
      "True\n"
     ]
    }
   ],
   "source": [
    "bool1 = True\n",
    "bool2 = bool1\n",
    "bool1 = False\n",
    "print(bool2)"
   ]
  },
  {
   "cell_type": "code",
   "execution_count": 3,
   "metadata": {},
   "outputs": [
    {
     "name": "stdout",
     "output_type": "stream",
     "text": [
      "5\n"
     ]
    }
   ],
   "source": [
    "int1 = 5\n",
    "int2 = int1\n",
    "int1 += 2\n",
    "print(int2)"
   ]
  },
  {
   "cell_type": "code",
   "execution_count": 4,
   "metadata": {},
   "outputs": [],
   "source": [
    "from datetime import date\n",
    "myVar1 = True\n",
    "myVar2 = date.today()\n",
    "myVar3 = myVar2.day"
   ]
  },
  {
   "cell_type": "code",
   "execution_count": 7,
   "metadata": {},
   "outputs": [
    {
     "data": {
      "text/plain": [
       "datetime.date"
      ]
     },
     "execution_count": 7,
     "metadata": {},
     "output_type": "execute_result"
    }
   ],
   "source": [
    "type(myVar2)"
   ]
  },
  {
   "cell_type": "code",
   "execution_count": 1,
   "metadata": {},
   "outputs": [
    {
     "name": "stdout",
     "output_type": "stream",
     "text": [
      "city's name with 'a': ['Shanghai', 'Shanghai', 'Dubai', 'São Paulo', 'Hyderabad', 'Hyderabad']\n",
      "city's name without 'a': ['New York', 'Munich', 'Tokyo', 'Mexico City']\n"
     ]
    }
   ],
   "source": [
    "cities = [\"New York\", \"Shanghai\", \"Munich\", \"Tokyo\",\n",
    "          \"Dubai\",\"Mexico City\", \"São Paulo\", \"Hyderabad\"]\n",
    "\n",
    "a_city = []  # city name with 'a' or 'A' \n",
    "no_a_city = []  # city name without 'a' or 'A'\n",
    "\n",
    "# your code is here\n",
    "for i in cities:\n",
    "    for j in range(len(i)):\n",
    "        if i[j]=='a'or i[j]=='A':\n",
    "            a_city.append(i)\n",
    "        else:\n",
    "            continue\n",
    "    if i in a_city:\n",
    "        continue\n",
    "    else:\n",
    "        no_a_city.append(i)\n",
    "\n",
    "print(\"city's name with 'a':\",a_city)\n",
    "print(\"city's name without 'a':\",no_a_city)"
   ]
  },
  {
   "cell_type": "code",
   "execution_count": null,
   "metadata": {},
   "outputs": [],
   "source": []
  }
 ],
 "metadata": {
  "kernelspec": {
   "display_name": "Python 3",
   "language": "python",
   "name": "python3"
  },
  "language_info": {
   "codemirror_mode": {
    "name": "ipython",
    "version": 3
   },
   "file_extension": ".py",
   "mimetype": "text/x-python",
   "name": "python",
   "nbconvert_exporter": "python",
   "pygments_lexer": "ipython3",
   "version": "3.6.8"
  }
 },
 "nbformat": 4,
 "nbformat_minor": 2
}
