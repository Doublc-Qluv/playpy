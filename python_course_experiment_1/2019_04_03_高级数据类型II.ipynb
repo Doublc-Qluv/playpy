{
 "cells": [
  {
   "cell_type": "markdown",
   "metadata": {},
   "source": [
    "## <font color=#0000ff size=5 face=\"黑体\"> 元组</font>"
   ]
  },
  {
   "cell_type": "code",
   "execution_count": 2,
   "metadata": {},
   "outputs": [
    {
     "name": "stdout",
     "output_type": "stream",
     "text": [
      "please input the first integer:5\n",
      "please input the second integer: 2\n",
      "Before exchange:  5 2\n",
      "After exchange:  2 5\n"
     ]
    }
   ],
   "source": [
    "num1 = int(input(\"please input the first integer:\"))\n",
    "num2 = int(input(\"please input the second integer: \"))\n",
    "print(\"Before exchange: \",num1, num2)\n",
    "if num1 > num2:\n",
    "    num1, num2 = num2, num1\n",
    "print(\"After exchange: \",num1,num2)"
   ]
  },
  {
   "cell_type": "code",
   "execution_count": 3,
   "metadata": {},
   "outputs": [
    {
     "name": "stdout",
     "output_type": "stream",
     "text": [
      "(1, 2, 3)\n",
      "myTuple1's type: <class 'tuple'>\n",
      "\n",
      "(1, 2, 3)\n",
      "myTuple2's type: <class 'tuple'>\n"
     ]
    }
   ],
   "source": [
    "myTuple1 = (1, 2, 3)\n",
    "myTuple2 = 1, 2, 3\n",
    "print(myTuple1)\n",
    "print(\"myTuple1's type:\",type(myTuple1))\n",
    "print()\n",
    "print(myTuple2)\n",
    "print(\"myTuple2's type:\",type(myTuple2))"
   ]
  },
  {
   "cell_type": "code",
   "execution_count": 4,
   "metadata": {},
   "outputs": [
    {
     "name": "stdout",
     "output_type": "stream",
     "text": [
      "Quotient:  2\n",
      "Remainder:  3\n"
     ]
    }
   ],
   "source": [
    "def quotientAndRemainder(dividend,divisor):\n",
    "    return dividend//divisor, dividend % divisor\n",
    "\n",
    "\n",
    "myDividend = 11\n",
    "myDivisor = 4\n",
    "\n",
    "(myQuotient,myRemainder) = quotientAndRemainder(myDividend,myDivisor)\n",
    "print(\"Quotient: \", myQuotient)\n",
    "print(\"Remainder: \", myRemainder)"
   ]
  },
  {
   "cell_type": "code",
   "execution_count": 5,
   "metadata": {},
   "outputs": [
    {
     "name": "stdout",
     "output_type": "stream",
     "text": [
      "45\n",
      "Xidian University\n",
      "37.0\n"
     ]
    }
   ],
   "source": [
    "myInteger = 45\n",
    "myString = \"Xidian University\"\n",
    "myFloat = 37.0\n",
    "myCharacter = \"C\"\n",
    "myInt2 = -1\n",
    "# 元组打包\n",
    "myTuple = (myInteger, myString, myFloat, myCharacter, myInt2)\n",
    "\n",
    "print(myTuple[0]) \n",
    "print(myTuple[1]) \n",
    "print(myTuple[2]) "
   ]
  },
  {
   "cell_type": "code",
   "execution_count": 6,
   "metadata": {},
   "outputs": [
    {
     "name": "stdout",
     "output_type": "stream",
     "text": [
      "45\n",
      "Xidian University\n",
      "37.0\n",
      "C\n",
      "-1\n"
     ]
    }
   ],
   "source": [
    "# 元组解包\n",
    "myNewInteger, myNewString, myNewFloat, myNewCharacter, myNewInt2 = myTuple\n",
    "\n",
    "print(myNewInteger)\n",
    "print(myNewString)\n",
    "print(myNewFloat)\n",
    "print(myNewCharacter)\n",
    "print(myNewInt2)"
   ]
  },
  {
   "cell_type": "code",
   "execution_count": 7,
   "metadata": {},
   "outputs": [
    {
     "data": {
      "text/plain": [
       "4"
      ]
     },
     "execution_count": 7,
     "metadata": {},
     "output_type": "execute_result"
    }
   ],
   "source": [
    "tuple1 = (99, 91, 95, 89, 90, 81, 89, 91, 91, 90, 91, 95, 89, 92, 85)\n",
    "tuple1.index(90)"
   ]
  },
  {
   "cell_type": "code",
   "execution_count": 8,
   "metadata": {},
   "outputs": [
    {
     "data": {
      "text/plain": [
       "6"
      ]
     },
     "execution_count": 8,
     "metadata": {},
     "output_type": "execute_result"
    }
   ],
   "source": [
    "tuple1.index(89,4)"
   ]
  },
  {
   "cell_type": "code",
   "execution_count": 9,
   "metadata": {},
   "outputs": [
    {
     "data": {
      "text/plain": [
       "6"
      ]
     },
     "execution_count": 9,
     "metadata": {},
     "output_type": "execute_result"
    }
   ],
   "source": [
    "tuple1.index(89,4,7)"
   ]
  },
  {
   "cell_type": "code",
   "execution_count": 10,
   "metadata": {},
   "outputs": [
    {
     "data": {
      "text/plain": [
       "4"
      ]
     },
     "execution_count": 10,
     "metadata": {},
     "output_type": "execute_result"
    }
   ],
   "source": [
    "tuple1.count(91)"
   ]
  },
  {
   "cell_type": "markdown",
   "metadata": {},
   "source": [
    "### <font color=#ff00ff size=5 face=\"黑体\"> 列表 </font>\n"
   ]
  },
  {
   "cell_type": "code",
   "execution_count": 11,
   "metadata": {},
   "outputs": [
    {
     "name": "stdout",
     "output_type": "stream",
     "text": [
      "[1, 2, 3]\n"
     ]
    }
   ],
   "source": [
    "myList1 = [1, 2, 3]\n",
    "print(myList1)"
   ]
  },
  {
   "cell_type": "code",
   "execution_count": 12,
   "metadata": {},
   "outputs": [
    {
     "name": "stdout",
     "output_type": "stream",
     "text": [
      "[1, 'Python', '4.5']\n"
     ]
    }
   ],
   "source": [
    "myInt1 = 1\n",
    "mystring1 = \"Python\"\n",
    "myfloat1 = \"4.5\"\n",
    "myList2 = [myInt1, mystring1, myfloat1]\n",
    "print(myList2)"
   ]
  },
  {
   "cell_type": "code",
   "execution_count": 13,
   "metadata": {},
   "outputs": [
    {
     "name": "stdout",
     "output_type": "stream",
     "text": [
      "[0, 1, 2, 3, 4]\n"
     ]
    }
   ],
   "source": [
    "# 常规方式\n",
    "num_list = []\n",
    "for i in range(5):\n",
    "    num_list.append(i)\n",
    "print(num_list)"
   ]
  },
  {
   "cell_type": "code",
   "execution_count": 14,
   "metadata": {},
   "outputs": [
    {
     "name": "stdout",
     "output_type": "stream",
     "text": [
      "[0, 1, 2, 3, 4]\n"
     ]
    }
   ],
   "source": [
    "# 使用列表解析表达式 （list comprehension expression）\n",
    "num_list = [i for i in range(5)]\n",
    "print(num_list)"
   ]
  },
  {
   "cell_type": "markdown",
   "metadata": {},
   "source": [
    "## <font color=#ff00ff size=5 face=\"黑体\"> [列表常见的方法](https://docs.python.org/3.6/tutorial/datastructures.html#more-on-lists)包括： </font>\n",
    "- <font color=#0000ff face=\"黑体\">sort():</font>对列表中的项目进行排序\n",
    "- <font color=#0000ff face=\"黑体\">append(item):</font>将项添加到列表的末尾\n",
    "- <font color=#0000ff face=\"黑体\">extend(incomingList):</font>通过附加iterable中的所有项来扩展列表\n",
    "- <font color=#0000ff face=\"黑体\">insert(index,item):</font>在给定位置插入项目。第一个参数是要插入的元素的索引\n",
    "- <font color=#0000ff face=\"黑体\">remove(item):</font>从列表中删除值为item的第一个项目。如果没有这样的项目则是错误的\n",
    "- <font color=#0000ff face=\"黑体\">reverse():</font>反转列表中的元素\n",
    "- <font color=#0000ff face=\"黑体\">pop():</font>删除列表中给定位置的项目，然后将其返回。如果未指定索引，则删除并返回列表中的最后一项。\n",
    "- <font color=#0000ff face=\"黑体\">index(item):</font>在值为item的第一个项的列表中返回从零开始的索引。\n",
    "- <font color=#0000ff face=\"黑体\">count(item):</font>返回item出现在列表中的次数\n",
    "- <font color=#0000ff face=\"黑体\">copy():</font>返回列表的浅表副本。相当于a[:]"
   ]
  },
  {
   "cell_type": "code",
   "execution_count": 15,
   "metadata": {},
   "outputs": [
    {
     "name": "stdout",
     "output_type": "stream",
     "text": [
      "20\n",
      "[17, 12, 9, 18, 11, 19, 7, 13, 14, 16, 1, 10, 8, 4, 6, 3, 15, 2, 5, 20] : Original list\n",
      "[1, 2, 3, 4, 5, 6, 7, 8, 9, 10, 11, 12, 13, 14, 15, 16, 17, 18, 19, 20] : After sorting\n",
      "[1, 2, 3, 4, 5, 6, 7, 8, 9, 10, 11, 12, 13, 14, 15, 16, 17, 18, 19, 20, 21] : After appending 21\n",
      "[1, 2, 3, 4, 5, 6, 7, 8, 9, 10, 11, 12, 13, 14, 15, 16, 17, 18, 19, 20, 21, 26, 22, 23, 24] : After extending with myOtherList\n",
      "[1, 2, 3, 4, 5, 6, 7, 8, 9, 10, 11, 12, 13, 14, 15, 25, 16, 17, 18, 19, 20, 21, 26, 22, 23, 24] : After inserting 25 at the index 15\n",
      "[1, 2, 3, 4, 5, 6, 7, 8, 9, 10, 11, 12, 13, 14, 15, 25, 16, 17, 18, 19, 20, 21, 22, 23, 24] : After removing 26\n",
      "[1, 2, 3, 4, 5, 6, 7, 8, 9, 10, 11, 12, 13, 14, 15, 16, 17, 18, 19, 20, 21, 22, 23, 24, 25] : After sorting again\n",
      "[25, 24, 23, 22, 21, 20, 19, 18, 17, 16, 15, 14, 13, 12, 11, 10, 9, 8, 7, 6, 5, 4, 3, 2, 1] : After reversing\n",
      "[25, 24, 23, 22, 21, 20, 19, 18, 17, 16, 15, 14, 13, 12, 11, 10, 9, 8, 7, 6, 5, 4, 3, 2] : After popping\n",
      "[25, 24, 23, 22, 21, 20, 19, 18, 17, 16, 15, 14, 13, 12, 11, 10, 9, 8, 7] : After deleting the last five items\n",
      "2 : Index of 23\n",
      "1 : Count of 15\n",
      "False : 4 in myList\n",
      "True : 25 in myList\n",
      "newlist:  [25, 24, 23, 22, 21, 20, 19, 18, 17, 16, 15, 14, 13, 12, 11, 10, 9, 8, 7]\n",
      "test the id of newlist and mylist\n",
      "False\n",
      "newlist2:  [25, 24, 23, 22, 21, 20, 19, 18, 17, 16, 15, 14, 13, 12, 11, 10, 9, 8, 7]\n",
      "True\n"
     ]
    }
   ],
   "source": [
    "#A list of the numbers 1 through 20\n",
    "myList = [17, 12, 9, 18, 11, 19, 7, 13, 14, 16, 1, 10, 8, 4, 6, 3, 15, 2, 5, 20]\n",
    "print(len(myList))\n",
    "print(myList, \": Original list\")\n",
    "\n",
    "myList.sort()\n",
    "print(myList, \": After sorting\")\n",
    "\n",
    "\n",
    "myList.append(21)\n",
    "print(myList, \": After appending 21\")\n",
    "\n",
    "myOtherList = [26, 22, 23, 24]\n",
    "myList.extend(myOtherList)\n",
    "print(myList, \": After extending with myOtherList\")\n",
    "\n",
    "myList.insert(15, 25)\n",
    "print(myList, \": After inserting 25 at the index 15\")\n",
    "\n",
    "myList.remove(26)\n",
    "print(myList, \": After removing 26\")\n",
    "\n",
    "myList.sort()\n",
    "print(myList, \": After sorting again\")\n",
    "\n",
    "myList.reverse()\n",
    "print(myList, \": After reversing\")\n",
    "\n",
    "myList.pop()\n",
    "print(myList, \": After popping\")\n",
    "\n",
    "del myList[-5:]\n",
    "print(myList, \": After deleting the last five items\")\n",
    "\n",
    "print(myList.index(23), \": Index of 23\")\n",
    "print(myList.count(15), \": Count of 15\")\n",
    "print(4 in myList, \": 4 in myList\")\n",
    "print(25 in myList, \": 25 in myList\")\n",
    "\n",
    "newlist = myList.copy()\n",
    "print(\"newlist: \",newlist)\n",
    "print(\"test the id of newlist and mylist\")\n",
    "print(id(newlist) == id(myList))\n",
    "\n",
    "newlist2 = myList\n",
    "print(\"newlist2: \",newlist2)\n",
    "print(id(newlist2) == id(myList))"
   ]
  },
  {
   "cell_type": "markdown",
   "metadata": {},
   "source": [
    "<font color=#ff00ff size=5 face=\"黑体\"> 需要注意的几点： </font>"
   ]
  },
  {
   "cell_type": "code",
   "execution_count": 16,
   "metadata": {},
   "outputs": [
    {
     "name": "stdout",
     "output_type": "stream",
     "text": [
      "None\n"
     ]
    }
   ],
   "source": [
    "MyList = [1, 5, 67, 3, 4]\n",
    "x = MyList.sort()   # reverse(),append(),extend(),remove(),clear()\n",
    "print(x)"
   ]
  },
  {
   "cell_type": "code",
   "execution_count": 17,
   "metadata": {},
   "outputs": [
    {
     "name": "stdout",
     "output_type": "stream",
     "text": [
      "['dog', 3, 'c', 'a', 't']\n"
     ]
    }
   ],
   "source": [
    "MyList = ['dog',3]\n",
    "MyList.extend('cat')\n",
    "print(MyList)"
   ]
  },
  {
   "cell_type": "code",
   "execution_count": 18,
   "metadata": {},
   "outputs": [
    {
     "name": "stdout",
     "output_type": "stream",
     "text": [
      "['dog', 3, 'hello', 'world']\n"
     ]
    }
   ],
   "source": [
    "MyList = ['dog',3]\n",
    "MyList.extend(['hello','world'])\n",
    "print(MyList)"
   ]
  },
  {
   "cell_type": "code",
   "execution_count": 19,
   "metadata": {},
   "outputs": [
    {
     "name": "stdout",
     "output_type": "stream",
     "text": [
      "['two', 'one', 5, 3, 2, 'bye', ['one', 2]]\n"
     ]
    }
   ],
   "source": [
    "my_list = ['two' , 'one' ,5,3,2,'bye']\n",
    "my_list.append(['one',2])\n",
    "print(my_list)"
   ]
  },
  {
   "cell_type": "code",
   "execution_count": 20,
   "metadata": {},
   "outputs": [
    {
     "name": "stdout",
     "output_type": "stream",
     "text": [
      "pet\n"
     ]
    }
   ],
   "source": [
    "my_list=['pet', 12, 'cat', 4.3, 'dog', 46]\n",
    "print(my_list[0])"
   ]
  },
  {
   "cell_type": "code",
   "execution_count": 21,
   "metadata": {},
   "outputs": [
    {
     "name": "stdout",
     "output_type": "stream",
     "text": [
      "['pet']\n"
     ]
    }
   ],
   "source": [
    "my_list = ['pet', 12, 'cat', 4.3, 'dog', 46]\n",
    "print (my_list[0:1])"
   ]
  },
  {
   "cell_type": "code",
   "execution_count": 22,
   "metadata": {},
   "outputs": [
    {
     "name": "stdout",
     "output_type": "stream",
     "text": [
      "The average of myList1 is: 5.0\n",
      "The average of myList2 is: 89.4\n"
     ]
    }
   ],
   "source": [
    "# Averages the numbers in a list\n",
    "def average(inList):\n",
    "    total = 0\n",
    "    for number in inList:\n",
    "        total += number\n",
    "    return total / len(inList)\n",
    "\n",
    "\n",
    "myList1 = [1, 2, 3, 4, 5, 6, 7, 8, 9]\n",
    "myList2 = [97, 87, 91, 83, 85, 91, 95, 99, 81, 85]\n",
    "\n",
    "print(\"The average of myList1 is:\", average(myList1))\n",
    "print(\"The average of myList2 is:\", average(myList2))"
   ]
  },
  {
   "cell_type": "code",
   "execution_count": 23,
   "metadata": {},
   "outputs": [
    {
     "name": "stdout",
     "output_type": "stream",
     "text": [
      "Averages: [90.4, 85.2, 82.2, 88.4, 92.8]\n"
     ]
    }
   ],
   "source": [
    "def TwoDAverage(in2DList):\n",
    "    result = []\n",
    "    # For each list in the list of lists\n",
    "    for numList in in2DList:\n",
    "        total = 0\n",
    "        # For each number in the current list\n",
    "        for number in numList:\n",
    "            total += number\n",
    "        # Append this list's average to result\n",
    "        result.append(total / len(numList))\n",
    "    return result\n",
    "\n",
    "\n",
    "my2DList = [[91, 95, 89, 92, 85],\n",
    "          [85, 87, 91, 81, 82],\n",
    "          [79, 75, 85, 83, 89],\n",
    "          [81, 89, 91, 91, 90],\n",
    "          [99, 91, 95, 89, 90]]\n",
    "\n",
    "print(\"Averages:\", TwoDAverage(my2DList))"
   ]
  },
  {
   "cell_type": "markdown",
   "metadata": {},
   "source": [
    "### <font color=#0000ff size=5 face=\"黑体\">列表和元组的切片和索引</font>"
   ]
  },
  {
   "cell_type": "code",
   "execution_count": 24,
   "metadata": {},
   "outputs": [
    {
     "name": "stdout",
     "output_type": "stream",
     "text": [
      "1\n",
      "1\n"
     ]
    }
   ],
   "source": [
    "list1 = [1,2,3,4,5,6]\n",
    "print(list1[-6]) # 反向\n",
    "print(list1[0]) # 正向"
   ]
  },
  {
   "cell_type": "code",
   "execution_count": 25,
   "metadata": {},
   "outputs": [
    {
     "name": "stdout",
     "output_type": "stream",
     "text": [
      "China\n",
      "[2018, 12, 18]\n",
      "['China', 40, 'revolution']\n",
      "['revolution', 40, 'China', 18, 12, 2018]\n"
     ]
    }
   ],
   "source": [
    "mylist = [2018,12,18,\"China\",40,\"revolution\"]\n",
    "print(mylist[3])\n",
    "print(mylist[:3])\n",
    "print(mylist[-3:])\n",
    "print(mylist[::-1])"
   ]
  },
  {
   "cell_type": "code",
   "execution_count": 26,
   "metadata": {},
   "outputs": [
    {
     "name": "stdout",
     "output_type": "stream",
     "text": [
      "40\n",
      "(2018, 12, 18)\n",
      "(12, 18, 40)\n",
      "(40, 18, 12, 2018)\n"
     ]
    }
   ],
   "source": [
    "mytuple = (2018,12,18,40)\n",
    "print(mytuple[3])\n",
    "print(mytuple[:3])\n",
    "print(mytuple[-3:])\n",
    "print(mytuple[::-1])"
   ]
  },
  {
   "cell_type": "markdown",
   "metadata": {},
   "source": [
    "### <font color=#ff00ff size=5 face=\"黑体\"> 字典dictionary </font>\n"
   ]
  },
  {
   "cell_type": "code",
   "execution_count": 27,
   "metadata": {},
   "outputs": [
    {
     "name": "stdout",
     "output_type": "stream",
     "text": [
      "The original dictionary is: {'name': 'john', 'age': 30}\n"
     ]
    }
   ],
   "source": [
    "person1 = {'name': 'john', 'age': 30}\n",
    "print(\"The original dictionary is:\",end=' ')\n",
    "print(person1)"
   ]
  },
  {
   "cell_type": "code",
   "execution_count": 28,
   "metadata": {},
   "outputs": [
    {
     "name": "stdout",
     "output_type": "stream",
     "text": [
      "{'name': 'john', 'age': 30, 'marriage': 'married'}\n"
     ]
    }
   ],
   "source": [
    "person = {}\n",
    "person['name'] = 'john'\n",
    "person['age'] = 30\n",
    "person['marriage'] = 'married'\n",
    "print(person)"
   ]
  },
  {
   "cell_type": "code",
   "execution_count": 29,
   "metadata": {},
   "outputs": [
    {
     "name": "stdout",
     "output_type": "stream",
     "text": [
      "After add key \"job\", the dictionary is:\n",
      "{'name': 'john', 'age': 32, 'marriage': 'married', 'job': 'Teacher'}\n"
     ]
    }
   ],
   "source": [
    "person['age'] = 32\n",
    "person['job'] = 'Teacher'\n",
    "print('After add key \"job\", the dictionary is:')\n",
    "print(person)"
   ]
  },
  {
   "cell_type": "code",
   "execution_count": 30,
   "metadata": {},
   "outputs": [
    {
     "name": "stdout",
     "output_type": "stream",
     "text": [
      "The value of key \"name\" is: john\n"
     ]
    }
   ],
   "source": [
    "print('The value of key \"name\" is:',end=' ')\n",
    "print(person['name'])"
   ]
  },
  {
   "cell_type": "code",
   "execution_count": 31,
   "metadata": {},
   "outputs": [
    {
     "name": "stdout",
     "output_type": "stream",
     "text": [
      "After delete the key \"job\", the dictionary is\n",
      "{'name': 'john', 'age': 32, 'marriage': 'married'}\n"
     ]
    }
   ],
   "source": [
    "print('After delete the key \"job\", the dictionary is')\n",
    "del person['job']\n",
    "print(person)"
   ]
  },
  {
   "cell_type": "markdown",
   "metadata": {},
   "source": [
    "### 字典常见的方法\n",
    "- <font color=#0000ff face=\"黑体\">values():</font>返回字典值的新视图\n",
    "- <font color=#0000ff face=\"黑体\">keys():</font>返回字典键的新视图\n",
    "- <font color=#0000ff face=\"黑体\">items():</font>返回字典项目（键值对）的新视图"
   ]
  },
  {
   "cell_type": "code",
   "execution_count": 32,
   "metadata": {},
   "outputs": [],
   "source": [
    "#Creates myDictionary with sprockets=5, widgets=11, cogs=3, gizmos=15,gadgets=1\n",
    "myDictionary = {\"sprockets\": 5,\n",
    "                \"widgets\": 11,\n",
    "                \"cogs\": 3,\n",
    "                \"gizmos\": 15,\n",
    "                \"gadgets\": 1}"
   ]
  },
  {
   "cell_type": "code",
   "execution_count": 33,
   "metadata": {},
   "outputs": [
    {
     "name": "stdout",
     "output_type": "stream",
     "text": [
      "A value less than 5 was found: 3\n",
      "A value less than 5 was found: 1\n"
     ]
    }
   ],
   "source": [
    "for value in myDictionary.values():\n",
    "    if value < 5:\n",
    "        print(\"A value less than 5 was found:\", value)"
   ]
  },
  {
   "cell_type": "code",
   "execution_count": 34,
   "metadata": {},
   "outputs": [
    {
     "name": "stdout",
     "output_type": "stream",
     "text": [
      "cogs 's value is less than 5, it's value is  3\n",
      "gadgets 's value is less than 5, it's value is  1\n"
     ]
    }
   ],
   "source": [
    "for key in myDictionary.keys():\n",
    "    value = myDictionary[key]\n",
    "    if value < 5:\n",
    "        print(key, \"'s value is less than 5, it's value is \", value)"
   ]
  },
  {
   "cell_type": "code",
   "execution_count": 35,
   "metadata": {},
   "outputs": [
    {
     "name": "stdout",
     "output_type": "stream",
     "text": [
      "cogs 's value is less than 5: 3\n",
      "gadgets 's value is less than 5: 1\n"
     ]
    }
   ],
   "source": [
    "for (key, value) in myDictionary.items():\n",
    "    if value < 5:\n",
    "        print(key, \"'s value is less than 5:\", value)"
   ]
  },
  {
   "cell_type": "code",
   "execution_count": null,
   "metadata": {},
   "outputs": [],
   "source": [
    "# print all the values in myDictionary\n",
    "# print the type of myDictionary.values()\n"
   ]
  },
  {
   "cell_type": "code",
   "execution_count": 37,
   "metadata": {},
   "outputs": [
    {
     "data": {
      "text/plain": [
       "dict_items([('sprockets', 5), ('widgets', 11), ('cogs', 3), ('gizmos', 15), ('gadgets', 1)])"
      ]
     },
     "execution_count": 37,
     "metadata": {},
     "output_type": "execute_result"
    }
   ],
   "source": [
    "myDictionary.items()"
   ]
  },
  {
   "cell_type": "code",
   "execution_count": 38,
   "metadata": {},
   "outputs": [
    {
     "data": {
      "text/plain": [
       "dict_values"
      ]
     },
     "execution_count": 38,
     "metadata": {},
     "output_type": "execute_result"
    }
   ],
   "source": [
    "type(myDictionary.values())"
   ]
  },
  {
   "cell_type": "markdown",
   "metadata": {},
   "source": [
    "### get()方法\n",
    "- 返回指定“键”对应的“值”\n",
    "- 如果该“键”不存在，返回指定的“值”"
   ]
  },
  {
   "cell_type": "code",
   "execution_count": 39,
   "metadata": {},
   "outputs": [
    {
     "name": "stdout",
     "output_type": "stream",
     "text": [
      "Not exists\n"
     ]
    }
   ],
   "source": [
    "print(myDictionary.get('Dogs','Not exists'))"
   ]
  },
  {
   "cell_type": "code",
   "execution_count": 40,
   "metadata": {},
   "outputs": [
    {
     "name": "stdout",
     "output_type": "stream",
     "text": [
      "3\n"
     ]
    }
   ],
   "source": [
    "print(myDictionary.get('cogs'))"
   ]
  },
  {
   "cell_type": "markdown",
   "metadata": {},
   "source": [
    "### <font color=#0000ff size=5 face=\"黑体\">练习1：统计字符串中每个单词出现的次数，不区分大小写</font>"
   ]
  },
  {
   "cell_type": "code",
   "execution_count": 64,
   "metadata": {},
   "outputs": [
    {
     "name": "stdout",
     "output_type": "stream",
     "text": [
      "{'this': 3, 'is': 4, 'the': 5, 'string': 2, 'whose': 1, 'words': 4, 'we': 3, 'would': 1, 'like': 1, 'to': 1, 'count': 3, 'contains': 3, 'some': 2, 'repeated': 1, 'as': 2, 'well': 1, 'unique': 1, 'it': 6, 'punctuation': 1, 'and': 2, 'that': 1, 'are': 1, 'capitalized': 1, 'in': 9, 'different': 1, 'waysif': 1, 'method': 1, 'write': 1, 'runs': 1, 'correctly': 1, 'will': 1, '4': 1, 'instances': 3, 'of': 3, 'word': 7, '3': 2}"
     ]
    }
   ],
   "source": [
    "myString = \"This is the string whose words we would like to count. \" \\\n",
    "           \"This string contains some repeated words, \" \\\n",
    "           \"as well as some unique words. \" \\\n",
    "           \"It contains punctuation, \" \\\n",
    "           \"and it contains words that are capitalized in different ways.\" \\\n",
    "           \"If the method we write runs correctly, \" \\\n",
    "           \"it will count 4 instances of the word 'it', \" \\\n",
    "           \"3 instances of the word 'this', \" \\\n",
    "           \"and 3 instances of the word 'count'.\"\n",
    "\n",
    "# we remove punctuations \n",
    "exclude = set(string.punctuation)\n",
    "myString = ''.join(ch for ch in myString if ch not in exclude)\n",
    "# Make the string into lower case\n",
    "myString = myString.lower()\n",
    "\n",
    "# split it by spaces so that we have a list of words\n",
    "myList = myString.split()\n",
    "# Create empty dictionary\n",
    "myDic = {}\n",
    "# for each word in the split string, count it\n",
    "for k in myList:\n",
    "    myDic[str(k)] = myString.count(str(k))\n",
    "\n",
    "print(myDic,end=\"\")"
   ]
  },
  {
   "cell_type": "markdown",
   "metadata": {},
   "source": [
    "### <font color=#0000ff size=5 face=\"黑体\">作业1：</font>"
   ]
  },
  {
   "cell_type": "code",
   "execution_count": 14,
   "metadata": {},
   "outputs": [
    {
     "data": {
      "text/plain": [
       "'\\nThis program takes string input and then prints out a mixed order version of the string\\n\\nProgram Parts\\n\\n1) program flow gathers the word list, modifies the case and order, and prints\\n    a) get string input, input like a poem, verse or saying;\\n    b) split the string into a list of individual words;\\n    c) determine the length of the list;\\n    d) Loop the length of the list by index number and for each list index:\\n        i) if a word is short (3 letters or less) make the word in the list lowercase\\n        ii) if a word is long (7 letters or more) make the word in the list uppercase\\n    e) call the word_mixer function with the modified list\\n    f) print the return value from the word_mixer function\\n\\n2) word_mixer Function has 1 argument: an original list of string words,\\ncontaining greater than 5 words and the function returns a new list.\\n    a) sort the original list (don\\'t change the original list itself)\\n    b) create a new list\\n    c) Loop while the sorted original list is longer than 5 words,\\nin each loop pop a word from the sorted original list and append it to the new list\\n        i) pop the word 5th from the end of the list and append to the new list\\n        ii) pop the first word in the list and append to the new list\\n        iii) pop the last word in the list and append to the new list\\n    d) return the new list on exiting the loop\\n\\ninput example (beginning of William Blake poem, \"The Fly\")\\n\\nenter a saying or poem:\\nLittle fly, Thy summer’s play My thoughtless hand Has brushed away. Am not I A fly like thee? Or art not thou A man like me?\\n\\noutput example:\\nor BRUSHED thy not Little thou me? SUMMER’S thee? like THOUGHTLESS play i a not hand a my fly am man\\n'"
      ]
     },
     "execution_count": 14,
     "metadata": {},
     "output_type": "execute_result"
    }
   ],
   "source": [
    "\"\"\"\n",
    "This program takes string input and then prints out a mixed order version of the string\n",
    "\n",
    "Program Parts\n",
    "\n",
    "1) program flow gathers the word list, modifies the case and order, and prints\n",
    "    a) get string input, input like a poem, verse or saying;\n",
    "    b) split the string into a list of individual words;\n",
    "    c) determine the length of the list;\n",
    "    d) Loop the length of the list by index number and for each list index:\n",
    "        i) if a word is short (3 letters or less) make the word in the list lowercase\n",
    "        ii) if a word is long (7 letters or more) make the word in the list uppercase\n",
    "    e) call the word_mixer function with the modified list\n",
    "    f) print the return value from the word_mixer function\n",
    "\n",
    "2) word_mixer Function has 1 argument: an original list of string words,\n",
    "containing greater than 5 words and the function returns a new list.\n",
    "    a) sort the original list (don't change the original list itself)\n",
    "    b) create a new list\n",
    "    c) Loop while the sorted original list is longer than 5 words,\n",
    "in each loop pop a word from the sorted original list and append it to the new list\n",
    "        i) pop the word 5th from the end of the list and append to the new list\n",
    "        ii) pop the first word in the list and append to the new list\n",
    "        iii) pop the last word in the list and append to the new list\n",
    "    d) return the new list on exiting the loop\n",
    "\n",
    "input example (beginning of William Blake poem, \"The Fly\")\n",
    "\n",
    "enter a saying or poem:\n",
    "Little fly, Thy summer’s play My thoughtless hand Has brushed away. Am not I A fly like thee? Or art not thou A man like me?\n",
    "\n",
    "output example:\n",
    "or BRUSHED thy not Little thou me? SUMMER’S thee? like THOUGHTLESS play i a not hand a my fly am man\n",
    "\"\"\""
   ]
  },
  {
   "cell_type": "markdown",
   "metadata": {},
   "source": [
    "这个程序接受字符串输入，然后打印出字符串的混合顺序版本\n",
    "\n",
    "程序部分\n",
    "\n",
    "- 1)程序流采集单词列表，修改大小写顺序，打印\n",
    "    - a)获取字符串输入，像诗、诗或语句一样输入;\n",
    "    - b)将字符串分割成单个单词列表;\n",
    "    - c)确定列表的长度;\n",
    "    - d)按索引号循环列表的长度，对于每个列表索引:\n",
    "        - i)如果一个单词很短(3个字母或更少)，使列表中的单词小写\n",
    "        - ii)如果一个单词很长(7个或更多字母)，请将列表中的单词大写\n",
    "    - e)使用修改后的列表调用word_mixer函数\n",
    "    - f)从word_mixer函数中打印返回值\n",
    "\n",
    "- 2) word_mixer函数有一个参数:一个字符串单词的原始列表，包含大于5个单词，函数返回一个新列表。\n",
    "    - a)对原始列表进行排序(不要改变原始列表本身)\n",
    "    - b)创建一个新的列表\n",
    "    - c)循环，排序后的原始列表长度大于5个单词，在每个循环中，从已排序的原始列表中弹出一个单词，并将其添加到新列表中\n",
    "        - i)从列表末尾弹出单词fifth，并添加到新列表中\n",
    "        - ii)弹出列表中的第一个单词并添加到新列表中\n",
    "        - iii)弹出列表中的最后一个单词并添加到新列表中\n",
    "    - d)退出循环时返回新列表"
   ]
  },
  {
   "cell_type": "code",
   "execution_count": 31,
   "metadata": {},
   "outputs": [
    {
     "name": "stdout",
     "output_type": "stream",
     "text": [
      "Little fly, Thy summer’s play My thoughtless hand Has brushed away. Am not I A fly like thee? Or art not thou A man like me?\n",
      "or BRUSHED thy not Little thou me? SUMMER’S thee? like THOUGHTLESS play i a not hand a my fly am man\n"
     ]
    }
   ],
   "source": [
    "# your code is here\n",
    "def word_mixer(oldList):\n",
    "    oldList.sort()\n",
    "    newList = []\n",
    "    while(len(oldList)>5):\n",
    "        newList.append(oldList[-5])\n",
    "        newList.append(oldList[0])\n",
    "        newList.append(oldList[-1])\n",
    "        del oldList[-5],oldList[-1],oldList[0]\n",
    "    return newList\n",
    "\n",
    "\n",
    "def getStr(myString):\n",
    "    # 移除标点 \n",
    "    exclude = ',.'\n",
    "    myString = ''.join(ch for ch in myString if ch not in exclude)\n",
    "    \n",
    "    # 得到单词列表\n",
    "    myList = myString.split()\n",
    "    # 确定列表长度\n",
    "    lenofList = len(myList)\n",
    "    # 变换大小写\n",
    "    for i in range(lenofList):\n",
    "        if len(myList[i]) <= 3:\n",
    "            myList[i] = myList[i].lower()\n",
    "        elif len(myList[i]) >= 7:\n",
    "            myList[i] = myList[i].upper()\n",
    "    return myList\n",
    "\n",
    "myInput = input()\n",
    "print(\" \".join(word_mixer(getStr(myInput))))"
   ]
  },
  {
   "cell_type": "code",
   "execution_count": null,
   "metadata": {},
   "outputs": [],
   "source": []
  }
 ],
 "metadata": {
  "kernelspec": {
   "display_name": "Python 3",
   "language": "python",
   "name": "python3"
  },
  "language_info": {
   "codemirror_mode": {
    "name": "ipython",
    "version": 3
   },
   "file_extension": ".py",
   "mimetype": "text/x-python",
   "name": "python",
   "nbconvert_exporter": "python",
   "pygments_lexer": "ipython3",
   "version": "3.6.8"
  }
 },
 "nbformat": 4,
 "nbformat_minor": 2
}
