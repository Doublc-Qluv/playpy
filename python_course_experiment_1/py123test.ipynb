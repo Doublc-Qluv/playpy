{
 "cells": [
  {
   "cell_type": "code",
   "execution_count": 3,
   "metadata": {},
   "outputs": [
    {
     "name": "stdout",
     "output_type": "stream",
     "text": [
      "1.0\n",
      "2.0\n",
      "We can't divide by 0!\n",
      "-2.0\n",
      "-1.0\n"
     ]
    }
   ],
   "source": [
    "for i in range(2, -3, -1):    \n",
    "    try:\n",
    "        print(2 / i)    \n",
    "    except ZeroDivisionError:\n",
    "        print(\"We can't divide by 0!\")"
   ]
  },
  {
   "cell_type": "code",
   "execution_count": 5,
   "metadata": {},
   "outputs": [
    {
     "name": "stdout",
     "output_type": "stream",
     "text": [
      "5\n"
     ]
    }
   ],
   "source": [
    "def squareInteger(incomingInteger):\n",
    "    incomingInteger = incomingInteger ** 2\n",
    "    return incomingInteger\n",
    "\n",
    "incomingInteger = 5             #This variable's name has changed!\n",
    "squareInteger(incomingInteger)\n",
    "print(incomingInteger)"
   ]
  },
  {
   "cell_type": "code",
   "execution_count": 6,
   "metadata": {},
   "outputs": [
    {
     "name": "stdout",
     "output_type": "stream",
     "text": [
      "\t1332\n",
      "\n",
      "1301\n",
      "1331\n"
     ]
    }
   ],
   "source": [
    "a = \"\\n1301\"\n",
    "b = \"1331\"\n",
    "c = \"\\t1332\"\n",
    "print(c)\n",
    "print(a)\n",
    "print(b)"
   ]
  },
  {
   "cell_type": "code",
   "execution_count": 7,
   "metadata": {},
   "outputs": [
    {
     "data": {
      "text/plain": [
       "[9, 2, 3, 4, 5, 6, 7, 8, 1]"
      ]
     },
     "execution_count": 7,
     "metadata": {},
     "output_type": "execute_result"
    }
   ],
   "source": [
    "myList1 = [5, 4, 3, 2]\n",
    "myList2 = [6, 7, 8]\n",
    "myList1.sort()\n",
    "myList1.extend(myList2)\n",
    "myList1.insert(0, 9)\n",
    "myList1.append(1)\n",
    "myList1"
   ]
  },
  {
   "cell_type": "code",
   "execution_count": 11,
   "metadata": {},
   "outputs": [
    {
     "name": "stdout",
     "output_type": "stream",
     "text": [
      "25.5 HelloHelloHelloHelloHello 5 5.1 Hello\n"
     ]
    }
   ],
   "source": [
    "myInteger = 5\n",
    "myFloat = 5.1\n",
    "myString = \"Hello\"\n",
    "myBoolean = True\n",
    "a = myInteger * myFloat\n",
    "b = myInteger * myString\n",
    "c = myInteger * myBoolean\n",
    "#d = myFloat * myString\n",
    "e = myFloat * myBoolean\n",
    "f = myString * myBoolean\n",
    "print(a,b,c,e,f,)"
   ]
  },
  {
   "cell_type": "code",
   "execution_count": 12,
   "metadata": {},
   "outputs": [
    {
     "name": "stdout",
     "output_type": "stream",
     "text": [
      "Number of the day: 5\n"
     ]
    }
   ],
   "source": [
    "print(\"Number of the day: \" + str(5))"
   ]
  },
  {
   "cell_type": "code",
   "execution_count": 13,
   "metadata": {},
   "outputs": [
    {
     "name": "stdout",
     "output_type": "stream",
     "text": [
      "Number of the day: 5\n"
     ]
    }
   ],
   "source": [
    "print(\"Number of the day:\", 5)"
   ]
  },
  {
   "cell_type": "code",
   "execution_count": 14,
   "metadata": {},
   "outputs": [],
   "source": [
    "myBoolean = bool(\"5\")"
   ]
  },
  {
   "cell_type": "code",
   "execution_count": 15,
   "metadata": {},
   "outputs": [
    {
     "ename": "ValueError",
     "evalue": "could not convert string to float: 'Hello!'",
     "output_type": "error",
     "traceback": [
      "\u001b[0;31m---------------------------------------------------------------------------\u001b[0m",
      "\u001b[0;31mValueError\u001b[0m                                Traceback (most recent call last)",
      "\u001b[0;32m<ipython-input-15-625fc426a37e>\u001b[0m in \u001b[0;36m<module>\u001b[0;34m\u001b[0m\n\u001b[0;32m----> 1\u001b[0;31m \u001b[0mmyFloat\u001b[0m \u001b[0;34m=\u001b[0m \u001b[0mfloat\u001b[0m\u001b[0;34m(\u001b[0m\u001b[0;34m\"Hello!\"\u001b[0m\u001b[0;34m)\u001b[0m\u001b[0;34m\u001b[0m\u001b[0;34m\u001b[0m\u001b[0m\n\u001b[0m",
      "\u001b[0;31mValueError\u001b[0m: could not convert string to float: 'Hello!'"
     ]
    }
   ],
   "source": [
    "myFloat = float(\"Hello!\")"
   ]
  },
  {
   "cell_type": "code",
   "execution_count": 16,
   "metadata": {},
   "outputs": [],
   "source": [
    "myFloat = float(\"5.1\")"
   ]
  },
  {
   "cell_type": "code",
   "execution_count": 17,
   "metadata": {},
   "outputs": [
    {
     "ename": "ValueError",
     "evalue": "invalid literal for int() with base 10: '5.1'",
     "output_type": "error",
     "traceback": [
      "\u001b[0;31m---------------------------------------------------------------------------\u001b[0m",
      "\u001b[0;31mValueError\u001b[0m                                Traceback (most recent call last)",
      "\u001b[0;32m<ipython-input-17-fff90e2f8c39>\u001b[0m in \u001b[0;36m<module>\u001b[0;34m\u001b[0m\n\u001b[0;32m----> 1\u001b[0;31m \u001b[0mmyInteger\u001b[0m \u001b[0;34m=\u001b[0m \u001b[0mint\u001b[0m\u001b[0;34m(\u001b[0m\u001b[0;34m\"5.1\"\u001b[0m\u001b[0;34m)\u001b[0m\u001b[0;34m\u001b[0m\u001b[0;34m\u001b[0m\u001b[0m\n\u001b[0m",
      "\u001b[0;31mValueError\u001b[0m: invalid literal for int() with base 10: '5.1'"
     ]
    }
   ],
   "source": [
    "myInteger = int(\"5.1\")"
   ]
  },
  {
   "cell_type": "code",
   "execution_count": 18,
   "metadata": {},
   "outputs": [],
   "source": [
    "myBoolean = bool(\"5.1\")"
   ]
  },
  {
   "cell_type": "code",
   "execution_count": 19,
   "metadata": {},
   "outputs": [],
   "source": [
    "myBoolean = bool(\"Hello!\")"
   ]
  },
  {
   "cell_type": "code",
   "execution_count": null,
   "metadata": {},
   "outputs": [],
   "source": []
  },
  {
   "cell_type": "code",
   "execution_count": 20,
   "metadata": {},
   "outputs": [],
   "source": [
    "myInteger = int(\"5\")"
   ]
  },
  {
   "cell_type": "code",
   "execution_count": 21,
   "metadata": {},
   "outputs": [
    {
     "ename": "NameError",
     "evalue": "name 'Infinity' is not defined",
     "output_type": "error",
     "traceback": [
      "\u001b[0;31m---------------------------------------------------------------------------\u001b[0m",
      "\u001b[0;31mNameError\u001b[0m                                 Traceback (most recent call last)",
      "\u001b[0;32m<ipython-input-21-a643d507b7f6>\u001b[0m in \u001b[0;36m<module>\u001b[0;34m\u001b[0m\n\u001b[0;32m----> 1\u001b[0;31m \u001b[0;32mfor\u001b[0m \u001b[0mi\u001b[0m \u001b[0;32min\u001b[0m \u001b[0mrange\u001b[0m\u001b[0;34m(\u001b[0m\u001b[0;36m0\u001b[0m\u001b[0;34m,\u001b[0m\u001b[0mInfinity\u001b[0m\u001b[0;34m)\u001b[0m\u001b[0;34m:\u001b[0m\u001b[0;34m\u001b[0m\u001b[0;34m\u001b[0m\u001b[0m\n\u001b[0m\u001b[1;32m      2\u001b[0m     \u001b[0mprint\u001b[0m\u001b[0;34m(\u001b[0m\u001b[0mi\u001b[0m\u001b[0;34m)\u001b[0m\u001b[0;34m\u001b[0m\u001b[0;34m\u001b[0m\u001b[0m\n",
      "\u001b[0;31mNameError\u001b[0m: name 'Infinity' is not defined"
     ]
    }
   ],
   "source": [
    "for i in range(0,Infinity):\n",
    "    print(i)"
   ]
  },
  {
   "cell_type": "code",
   "execution_count": 22,
   "metadata": {},
   "outputs": [
    {
     "name": "stdout",
     "output_type": "stream",
     "text": [
      "Nice book choice!\n",
      "You should learn a new language.\n",
      "You have good taste!\n"
     ]
    }
   ],
   "source": [
    "faveLanguage = \"Spanish\"\n",
    "faveInstrument = \"fiddle\"\n",
    "faveDrink = \"iced tea\"\n",
    "faveBook = \"Atlas Shrugged\"\n",
    "\n",
    "coolLanguages = [\"Afrikaans\", \"Finnish\", \"Latin\", \"American Sign Language\"]\n",
    "coolInstruments = [\"didgeridoo\", \"pan pipes\", \"church organ\", \"fiddle\"]\n",
    "coolDrinks = [\"civet coffee\", \"kombucha\", \"kefir\"]\n",
    "coolBooks = [\"The Catcher in the Rye\", \"Atlas Shrugged\", \"Anna Karenina\", \"Hamlet\"]\n",
    "\n",
    "if faveBook in coolBooks:\n",
    "    print(\"Nice book choice!\")\n",
    "    if faveLanguage in coolLanguages:\n",
    "        print(\"Let's practice together sometime!\")\n",
    "        if faveInstrument in coolInstruments:\n",
    "            print(\"I play that, too!\")\n",
    "    else:\n",
    "        print(\"You should learn a new language.\")\n",
    "        if faveDrink in coolDrinks or faveInstrument in coolInstruments:\n",
    "            print(\"You have good taste!\")\n",
    "        else:\n",
    "            print(\"What cool things are you into?\")\n",
    "else:\n",
    "    print(\"See you later...\")"
   ]
  },
  {
   "cell_type": "code",
   "execution_count": 23,
   "metadata": {},
   "outputs": [
    {
     "ename": "SyntaxError",
     "evalue": "invalid syntax (<ipython-input-23-16a28046dc12>, line 1)",
     "output_type": "error",
     "traceback": [
      "\u001b[0;36m  File \u001b[0;32m\"<ipython-input-23-16a28046dc12>\"\u001b[0;36m, line \u001b[0;32m1\u001b[0m\n\u001b[0;31m    myString = '\"To be, or not to be- that is the question:\\nWhether 'tis nobler in the mind to suffer\\nThe slings and arrows of outrageous fortune\\nOr to take arms against a sea of troubles,\\nAnd by opposing end them.\" -Hamlet'\u001b[0m\n\u001b[0m                                                                        ^\u001b[0m\n\u001b[0;31mSyntaxError\u001b[0m\u001b[0;31m:\u001b[0m invalid syntax\n"
     ]
    }
   ],
   "source": [
    "myString = '\"To be, or not to be- that is the question:\\nWhether 'tis nobler in the mind to suffer\\nThe slings and arrows of outrageous fortune\\nOr to take arms against a sea of troubles,\\nAnd by opposing end them.\" -Hamlet'"
   ]
  },
  {
   "cell_type": "code",
   "execution_count": 24,
   "metadata": {},
   "outputs": [],
   "source": [
    "myString = '''\"To be, or not to be- that is the question:\\nWhether 'tis nobler in the mind to suffer\\nThe slings and arrows of outrageous fortune\\nOr to take arms against a sea of troubles,\\nAnd by opposing end them.\" -Hamlet'''"
   ]
  },
  {
   "cell_type": "code",
   "execution_count": 26,
   "metadata": {},
   "outputs": [
    {
     "name": "stdout",
     "output_type": "stream",
     "text": [
      "\"To be, or not to be- that is the question:\n",
      "Whether 'tis nobler in the mind to suffer\n",
      "The slings and arrows of outrageous fortune\n",
      "Or to take arms against a sea of troubles,\n",
      "And by opposing end them.\" -Hamlet\n"
     ]
    }
   ],
   "source": [
    "print(myString)"
   ]
  },
  {
   "cell_type": "code",
   "execution_count": 28,
   "metadata": {},
   "outputs": [],
   "source": [
    "myString = '\"To be, or not to be- that is the question:\\nWhether \\'tis nobler in the mind to suffer\\nThe slings and arrows of outrageous fortune\\nOr to take arms against a sea of troubles,\\nAnd by opposing end them.\" -Hamlet'"
   ]
  },
  {
   "cell_type": "code",
   "execution_count": 29,
   "metadata": {},
   "outputs": [
    {
     "name": "stdout",
     "output_type": "stream",
     "text": [
      "\"To be, or not to be- that is the question:\n",
      "Whether 'tis nobler in the mind to suffer\n",
      "The slings and arrows of outrageous fortune\n",
      "Or to take arms against a sea of troubles,\n",
      "And by opposing end them.\" -Hamlet\n"
     ]
    }
   ],
   "source": [
    "print(myString)"
   ]
  },
  {
   "cell_type": "code",
   "execution_count": 71,
   "metadata": {},
   "outputs": [
    {
     "name": "stdout",
     "output_type": "stream",
     "text": [
      "Loop iteration #1 beginning now\n",
      "Loop iteration #2 beginning now\n",
      "Loop iteration #3 beginning now\n",
      "Loop iteration #4 beginning now\n",
      "Loop iteration #5 beginning now\n",
      "Loop iteration # 1 beginning now\n",
      "Loop iteration # 2 beginning now\n",
      "Loop iteration # 3 beginning now\n",
      "Loop iteration # 4 beginning now\n",
      "Loop iteration # 5 beginning now\n"
     ]
    }
   ],
   "source": [
    "for i in range(1, 6):\n",
    "    printMessage = \" beginning now\"\n",
    "    printMessage = str(i) + printMessage\n",
    "    printMessage = \"Loop iteration #\" + printMessage\n",
    "    print(printMessage)\n",
    "for i in range(1,6):\n",
    "    print(\"Loop iteration #\", i, \"beginning now\")"
   ]
  },
  {
   "cell_type": "code",
   "execution_count": 34,
   "metadata": {},
   "outputs": [
    {
     "ename": "TypeError",
     "evalue": "must be str, not int",
     "output_type": "error",
     "traceback": [
      "\u001b[0;31m---------------------------------------------------------------------------\u001b[0m",
      "\u001b[0;31mTypeError\u001b[0m                                 Traceback (most recent call last)",
      "\u001b[0;32m<ipython-input-34-83325e0f1140>\u001b[0m in \u001b[0;36m<module>\u001b[0;34m\u001b[0m\n\u001b[0;32m----> 1\u001b[0;31m \u001b[0mprint\u001b[0m\u001b[0;34m(\u001b[0m\u001b[0;34m\"Loop iteration #\"\u001b[0m \u001b[0;34m+\u001b[0m \u001b[0mi\u001b[0m \u001b[0;34m+\u001b[0m \u001b[0;34m\" beginning now\"\u001b[0m\u001b[0;34m)\u001b[0m\u001b[0;34m\u001b[0m\u001b[0;34m\u001b[0m\u001b[0m\n\u001b[0m",
      "\u001b[0;31mTypeError\u001b[0m: must be str, not int"
     ]
    }
   ],
   "source": [
    "print(\"Loop iteration #\" + i + \" beginning now\")"
   ]
  },
  {
   "cell_type": "code",
   "execution_count": 72,
   "metadata": {},
   "outputs": [
    {
     "data": {
      "text/plain": [
       "'xedcf'"
      ]
     },
     "execution_count": 72,
     "metadata": {},
     "output_type": "execute_result"
    }
   ],
   "source": [
    "s = 'qazwsxedcf'\n",
    "s[5:10]"
   ]
  },
  {
   "cell_type": "code",
   "execution_count": 46,
   "metadata": {},
   "outputs": [],
   "source": [
    "myList=list('qwerftgyh')\n",
    "for i in range(0, len(myList), -1):\n",
    "    print(myList[i])"
   ]
  },
  {
   "cell_type": "code",
   "execution_count": 47,
   "metadata": {},
   "outputs": [
    {
     "name": "stdout",
     "output_type": "stream",
     "text": [
      "Cinderella wears blue\n",
      "Belle wears yellow\n",
      "Mulan wears red\n",
      "Tiana wears green\n",
      "Rapunzel wears purple\n"
     ]
    }
   ],
   "source": [
    "myDictionary = {'Cinderella':'blue', 'Belle':'yellow', 'Mulan':'red', 'Tiana':'green', 'Rapunzel':'purple'}\n",
    "for (princessName, princessDress) in myDictionary.items():\n",
    "    print(princessName, \"wears\", princessDress)"
   ]
  },
  {
   "cell_type": "code",
   "execution_count": 48,
   "metadata": {},
   "outputs": [
    {
     "ename": "KeyError",
     "evalue": "'blue'",
     "output_type": "error",
     "traceback": [
      "\u001b[0;31m---------------------------------------------------------------------------\u001b[0m",
      "\u001b[0;31mKeyError\u001b[0m                                  Traceback (most recent call last)",
      "\u001b[0;32m<ipython-input-48-96d3663a372b>\u001b[0m in \u001b[0;36m<module>\u001b[0;34m\u001b[0m\n\u001b[1;32m      1\u001b[0m \u001b[0;32mfor\u001b[0m \u001b[0mprincessDress\u001b[0m \u001b[0;32min\u001b[0m \u001b[0mmyDictionary\u001b[0m\u001b[0;34m.\u001b[0m\u001b[0mvalues\u001b[0m\u001b[0;34m(\u001b[0m\u001b[0;34m)\u001b[0m\u001b[0;34m:\u001b[0m\u001b[0;34m\u001b[0m\u001b[0;34m\u001b[0m\u001b[0m\n\u001b[0;32m----> 2\u001b[0;31m     \u001b[0mprint\u001b[0m\u001b[0;34m(\u001b[0m\u001b[0mmyDictionary\u001b[0m\u001b[0;34m[\u001b[0m\u001b[0mprincessDress\u001b[0m\u001b[0;34m]\u001b[0m\u001b[0;34m,\u001b[0m \u001b[0;34m\"wears\"\u001b[0m\u001b[0;34m,\u001b[0m \u001b[0mprincessName\u001b[0m\u001b[0;34m)\u001b[0m\u001b[0;34m\u001b[0m\u001b[0;34m\u001b[0m\u001b[0m\n\u001b[0m",
      "\u001b[0;31mKeyError\u001b[0m: 'blue'"
     ]
    }
   ],
   "source": [
    "for princessDress in myDictionary.values():\n",
    "    print(myDictionary[princessDress], \"wears\", princessName)"
   ]
  },
  {
   "cell_type": "code",
   "execution_count": 49,
   "metadata": {},
   "outputs": [
    {
     "ename": "ValueError",
     "evalue": "too many values to unpack (expected 2)",
     "output_type": "error",
     "traceback": [
      "\u001b[0;31m---------------------------------------------------------------------------\u001b[0m",
      "\u001b[0;31mValueError\u001b[0m                                Traceback (most recent call last)",
      "\u001b[0;32m<ipython-input-49-aab7dc254fed>\u001b[0m in \u001b[0;36m<module>\u001b[0;34m\u001b[0m\n\u001b[0;32m----> 1\u001b[0;31m \u001b[0;32mfor\u001b[0m \u001b[0;34m(\u001b[0m\u001b[0mprincessName\u001b[0m\u001b[0;34m,\u001b[0m \u001b[0mprincessDress\u001b[0m\u001b[0;34m)\u001b[0m \u001b[0;32min\u001b[0m \u001b[0mmyDictionary\u001b[0m\u001b[0;34m:\u001b[0m\u001b[0;34m\u001b[0m\u001b[0;34m\u001b[0m\u001b[0m\n\u001b[0m\u001b[1;32m      2\u001b[0m     \u001b[0mprint\u001b[0m\u001b[0;34m(\u001b[0m\u001b[0mprincessName\u001b[0m\u001b[0;34m,\u001b[0m \u001b[0;34m\"wears\"\u001b[0m\u001b[0;34m,\u001b[0m \u001b[0mprincessDress\u001b[0m\u001b[0;34m)\u001b[0m\u001b[0;34m\u001b[0m\u001b[0;34m\u001b[0m\u001b[0m\n",
      "\u001b[0;31mValueError\u001b[0m: too many values to unpack (expected 2)"
     ]
    }
   ],
   "source": [
    "for (princessName, princessDress) in myDictionary:\n",
    "    print(princessName, \"wears\", princessDress)"
   ]
  },
  {
   "cell_type": "code",
   "execution_count": 50,
   "metadata": {},
   "outputs": [
    {
     "name": "stdout",
     "output_type": "stream",
     "text": [
      "Cinderella wears blue\n",
      "Belle wears yellow\n",
      "Mulan wears red\n",
      "Tiana wears green\n",
      "Rapunzel wears purple\n"
     ]
    }
   ],
   "source": [
    "for princessName in myDictionary:\n",
    "    print(princessName, \"wears\", myDictionary[princessName])"
   ]
  },
  {
   "cell_type": "code",
   "execution_count": 56,
   "metadata": {},
   "outputs": [
    {
     "name": "stdout",
     "output_type": "stream",
     "text": [
      "2 3 5 7 11 13 17 19 23 29 31 37 41 43 47 53 59 61 67 71 73 79 83 89 97 "
     ]
    }
   ],
   "source": [
    "def is_prime(n):\n",
    "    '''计算2到i-1之间有没有被整数的数，如果没有，则n是素数'''\n",
    "    x = 1    # x累计1到n中的质数个数，由于2也是质数，这里先加+1\n",
    "    for i in range(2, n+1):  # 3到n+1取值（取一个值出来用内循环判断此数是否为质素）\n",
    "        result = True\n",
    "        for j in range(2,i-1):   # 2到i-1之间有没有被整数的数，有则不是质素\n",
    "            if i % j == 0:\n",
    "                result = False\n",
    "        if result == True:\n",
    "            print(i,end=\" \")\n",
    "            x += 1\n",
    "is_prime(100)"
   ]
  },
  {
   "cell_type": "code",
   "execution_count": 55,
   "metadata": {},
   "outputs": [
    {
     "name": "stdout",
     "output_type": "stream",
     "text": [
      "None\n"
     ]
    }
   ],
   "source": []
  },
  {
   "cell_type": "code",
   "execution_count": 62,
   "metadata": {},
   "outputs": [
    {
     "data": {
      "text/plain": [
       "-1"
      ]
     },
     "execution_count": 62,
     "metadata": {},
     "output_type": "execute_result"
    }
   ],
   "source": [
    "myString = \"I like shorts!\"\n",
    "myString.find(\"s\",0,5)"
   ]
  },
  {
   "cell_type": "code",
   "execution_count": 65,
   "metadata": {},
   "outputs": [
    {
     "name": "stdout",
     "output_type": "stream",
     "text": [
      "2\n"
     ]
    }
   ],
   "source": [
    "for i in range(0, 3):\n",
    "    continue\n",
    "print(i)"
   ]
  },
  {
   "cell_type": "code",
   "execution_count": 69,
   "metadata": {},
   "outputs": [],
   "source": [
    "def is_divisible_by_four_1(some_number):\n",
    "    if some_number % 4 == 0:\n",
    "        return True \n",
    "is_divisible_by_four_1(2)"
   ]
  },
  {
   "cell_type": "code",
   "execution_count": null,
   "metadata": {},
   "outputs": [],
   "source": []
  }
 ],
 "metadata": {
  "kernelspec": {
   "display_name": "Python 3",
   "language": "python",
   "name": "python3"
  },
  "language_info": {
   "codemirror_mode": {
    "name": "ipython",
    "version": 3
   },
   "file_extension": ".py",
   "mimetype": "text/x-python",
   "name": "python",
   "nbconvert_exporter": "python",
   "pygments_lexer": "ipython3",
   "version": "3.6.8"
  }
 },
 "nbformat": 4,
 "nbformat_minor": 2
}
